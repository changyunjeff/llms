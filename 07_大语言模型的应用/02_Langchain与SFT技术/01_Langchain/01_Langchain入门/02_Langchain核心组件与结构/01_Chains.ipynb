{
 "cells": [
  {
   "cell_type": "markdown",
   "id": "351e8253-a1bb-406e-9b28-b06da3ff72c0",
   "metadata": {},
   "source": [
    "# 1 Chains"
   ]
  },
  {
   "cell_type": "markdown",
   "id": "d641069c-f834-4677-9d21-3bd514ca6e8f",
   "metadata": {},
   "source": [
    "在 LangChain 框架中，链（Chains）是实现任务自动化的核心机制。随着框架从 0.x 版本升级到 1.x，链的设计理念也发生了重要演变 —— 从传统的类封装模式转向更灵活的 LangChain Expression Language（LCEL）表达式模式。本文将系统梳理当前主流的链类型，分析每种类型的适用场景，并通过实践案例展示其应用方法。"
   ]
  },
  {
   "cell_type": "markdown",
   "id": "660f3ce2-24f2-4e80-8a4a-d791acad29a8",
   "metadata": {},
   "source": [
    "## 一、链类型的技术演进与分类框架"
   ]
  },
  {
   "cell_type": "markdown",
   "id": "12d41e3a-5b04-4017-9247-7d9de19c275c",
   "metadata": {},
   "source": [
    "LangChain 的链类型发展可分为两个阶段：传统链（Traditional Chains）和现代 LCEL 链（LangChain Expression Language Chains）。这种演进源于对灵活性和可组合性的追求：\n",
    "\n",
    "- **传统链**：基于类封装的预定义工作流，如LLMChain、SequentialChain等，在 LangChain 0.2.x 后部分已标记为废弃。\n",
    "\n",
    "- **LCEL 链**：通过|运算符组合Runnable对象构建的工作流，支持流式处理、异步执行和并行计算，是 1.x 版本的推荐方案。\n",
    "\n",
    "这种演变带来的核心优势是：开发者可以像搭积木一样组合不同组件，而非局限于预定义的链结构。接下来我们将重点介绍仍被广泛使用的传统链和现代 LCEL 链的主要类型。"
   ]
  },
  {
   "cell_type": "markdown",
   "id": "2995cd87-b877-4895-b5c1-3f381b177ee0",
   "metadata": {},
   "source": [
    "## 二、核心链类型详解与适用场景"
   ]
  },
  {
   "cell_type": "markdown",
   "id": "a3ccc26a-b866-49fb-bbf9-4e7bfe369bed",
   "metadata": {},
   "source": [
    "**（一）传统链类型（兼容保留、不详细介绍）**\n",
    "\n",
    "尽管 LCEL 已成为主流，传统链类型仍在一些 legacy 项目中使用，了解它们有助于理解链设计的基本原理。\n",
    "\n",
    "1. **LLMChain**\n",
    "\n",
    "    - 核心功能：最基础的链类型，将提示模板（PromptTemplate）与语言模型（LLM）封装为单一组件。\n",
    "\n",
    "    - 适用场景：简单的单步任务，如文本生成、基础问答、格式转换等。\n",
    "\n",
    "    - 局限性：仅支持单输入单输出，已被 LCEL 的prompt | llm | parser模式替代。\n",
    "\n",
    "2. **SimpleSequentialChain**\n",
    "\n",
    "    - 核心功能：按线性顺序串联多个链，前一个链的输出作为后一个链的唯一输入。\n",
    "\n",
    "    - 适用场景：单一数据流的多步骤处理，例如 \"文本翻译→翻译结果总结\" 的流水线任务。\n",
    "\n",
    "    - 优势：实现简单，适合逻辑清晰的线性流程。\n",
    "\n",
    "3. **SequentialChain**\n",
    "\n",
    "    - 核心功能：支持多输入多输出的复杂线性流程，允许不同链共享或传递多个变量。\n",
    "\n",
    "    - 适用场景：需要处理多源数据或生成多维度结果的任务，如电商评论分析中的 \"翻译→情感分析→标签提取→报告生成\" 流程。\n",
    "\n",
    "    - 与 SimpleSequentialChain 的区别：后者仅支持单一输入输出，前者可处理复杂变量传递。\n",
    "\n",
    "4. **MapReduceChain**\n",
    "\n",
    "    - 核心功能：采用 \"分块处理→结果合并\" 模式处理长文档，先将文本分割为小块并行处理，再汇总分析。\n",
    "\n",
    "    - 适用场景：长文档总结、学术论文分析、多章节报告生成等场景。\n",
    "\n",
    "    - 优势：解决了大模型上下文长度限制问题，提高长文本处理效率。\n",
    "\n",
    "5. **TransformChain**\n",
    "\n",
    "    - 核心功能：允许插入自定义 Python 函数对数据进行预处理或后处理。\n",
    "\n",
    "    - 适用场景：文本清洗、格式转换、特定字段提取、数据过滤等需要编程逻辑的任务。\n",
    "\n",
    "    - 典型案例：从 HTML 文本中提取正文内容、按规则截取长文本的关键段落。"
   ]
  },
  {
   "cell_type": "markdown",
   "id": "1b0a5db5-f70a-40a1-9a8d-272142118a25",
   "metadata": {},
   "source": [
    "**（二）现代 LCEL 链类型（1.x 推荐，详细介绍）**\n",
    "\n",
    "LCEL（LangChain Expression Language）引入了Runnable接口，通过 `|` 运算符实现组件组合，提供了更高的灵活性和扩展性。\n",
    "\n",
    "1. RunnableSequence\n",
    "\n",
    "    - 核心功能：按顺序执行多个Runnable组件，前一个输出作为后一个输入，对应传统的SequentialChain。\n",
    "\n",
    "    - 语法特点：使用 `|` 运算符组合，如`prompt | llm | parser`。\n",
    "\n",
    "    - 适用场景：所有线性工作流，尤其适合需要精细控制每个步骤的场景。\n",
    "\n",
    "2. RunnableParallel\n",
    "\n",
    "    - 核心功能：并行执行多个Runnable组件，将结果合并为字典输出。\n",
    "\n",
    "    - 适用场景：需要同时处理多个独立任务的场景，如 \"文本总结 + 关键词提取 + 情感分析\" 并行执行。\n",
    "\n",
    "    - 性能优势：比串行执行节省大量时间，尤其适合多文档处理场景。\n",
    "\n",
    "3. RunnableBranch\n",
    "\n",
    "    - 核心功能：根据条件判断选择不同的处理分支，类似程序中的if-elif-else逻辑。\n",
    "\n",
    "    - 适用场景：需要动态路由的任务，如客服系统中根据问题类型（技术支持 / 订单查询 / 投诉建议）分配不同处理流程。\n",
    "\n",
    "4. RunnableWithMessageHistory\n",
    "\n",
    "    - 核心功能：自动管理对话历史，维持上下文连贯性。\n",
    "    \n",
    "    - 适用场景：聊天机器人、多轮对话系统等需要上下文记忆的场景。"
   ]
  },
  {
   "cell_type": "markdown",
   "id": "fdc75d34-6c70-4637-b648-6e008fc0f2be",
   "metadata": {},
   "source": [
    "## 三、实践案例一：LCEL 链实现多步骤文本处理"
   ]
  },
  {
   "cell_type": "markdown",
   "id": "09b595ec-32c7-45f4-b1c4-655ae16d8011",
   "metadata": {},
   "source": [
    "### 案例1：基础单链 ———— 生成产品描述"
   ]
  },
  {
   "cell_type": "markdown",
   "id": "67343dc7-6cd5-41a8-bb3b-f66cfcd3e0c9",
   "metadata": {},
   "source": [
    "- **适用场景**：简单的单步文本生成任务（如广告语、摘要、基础问答）\n",
    "\n",
    "- **链类型**： 最基础的“提示词模板 + LLM”组合"
   ]
  },
  {
   "cell_type": "code",
   "execution_count": 2,
   "id": "04e0c9c0-335d-4808-83ae-e3a3bd42765b",
   "metadata": {},
   "outputs": [
    {
     "name": "stdout",
     "output_type": "stream",
     "text": [
      "1. 海滩派对必备！防水蓝牙音箱20小时续航\n",
      "2. 轻巧便携，360度环绕音效震撼全场\n",
      "3. 水中音乐无压力，蓝牙音箱带你畅游\n"
     ]
    }
   ],
   "source": [
    "from dotenv import load_dotenv\n",
    "from langchain_openai import ChatOpenAI\n",
    "from langchain_core.prompts import ChatPromptTemplate\n",
    "from langchain_core.output_parsers import StrOutputParser\n",
    "import os\n",
    "\n",
    "load_dotenv()\n",
    "\n",
    "llm = ChatOpenAI(\n",
    "    openai_api_key=os.getenv(\"UIUIAPI_API_KEY\"),\n",
    "    base_url=os.getenv(\"UIUIAPI_BASE_URL\"),\n",
    "    model=\"gpt-3.5-turbo\",\n",
    "    temperature=0.7,\n",
    ")\n",
    "\n",
    "# 1. 定义提示词模板\n",
    "prompt = ChatPromptTemplate.from_template(\"\"\"\n",
    "你是电商平台的文案专家，请为以下产品生成3条吸引人的短标题（每条不超过20字）：\n",
    "产品：{product}\n",
    "特点：{features}\n",
    "\"\"\")\n",
    "\n",
    "# 2. 构建基础链（提示 > 模型 > 输出解析）\n",
    "product_chain = prompt | llm | StrOutputParser()\n",
    "\n",
    "# 3. 运行链\n",
    "result = product_chain.invoke({\n",
    "    \"product\": \"便携式蓝牙音箱\",\n",
    "    \"features\": \"防水、20小时续航、360度环绕音效\"\n",
    "})\n",
    "\n",
    "print(result)\n"
   ]
  },
  {
   "cell_type": "markdown",
   "id": "c42ba4d4-5b5e-45c1-b039-bb335a3879f6",
   "metadata": {},
   "source": [
    "在 LangChain 中，StrOutputParser是最常用的输出解析器之一，它的核心作用是将语言模型返回的原始输出（通常是AIMessage对象）转换为纯字符串格式，方便后续处理或直接使用。\n",
    "\n",
    "简单来说，当你调用语言模型时，模型返回的结果并不是直接可用的字符串，而是包含了消息类型、内容等信息的对象。StrOutputParser就像一个 \"转换器\"，专门提取其中的文本内容并以字符串形式返回。"
   ]
  },
  {
   "cell_type": "markdown",
   "id": "4985656a-30d1-467f-8af7-cdc4994cd87e",
   "metadata": {},
   "source": [
    "### 案例2：线性链 ———— 翻译 → 总结 → 扩写"
   ]
  },
  {
   "cell_type": "markdown",
   "id": "3ea689e2-dee6-4c63-8401-97154e527e12",
   "metadata": {},
   "source": [
    "- **适用场景**：多步骤线性流程（前一步输出作为后一步输入）\n",
    "\n",
    "- **链类型**：`RunnableSequence` （LCEL的线性链，替代传统的`SequentialChain`）"
   ]
  },
  {
   "cell_type": "code",
   "execution_count": 7,
   "id": "418f6257-cef9-4435-8e3a-32c1efdcc985",
   "metadata": {},
   "outputs": [
    {
     "name": "stdout",
     "output_type": "stream",
     "text": [
      "LangChain 1.0 的发布标志着该框架在灵活性和性能方面的显著提升。新引入的 LCEL（LangChain Expression Language）语言，极大地简化了开发者在构建复杂应用时的工作流程。通过 LCEL，开发者可以更加直观地使用运算符来组合不同的组件，从而实现更高效的代码编写和逻辑表达。这种表达方式不仅易于理解，还能减少代码的冗余，提高可读性。\n",
      "\n",
      "此外，LangChain 1.0 还支持流式处理、并行执行和异步操作，这些功能的引入使得处理大规模数据和复杂任务变得更加高效。在流式处理方面，开发者可以实时处理数据流，减少延迟，提高响应速度。而并行执行则允许多个任务同时进行，充分利用系统资源，显著提升了整体性能。异步操作的支持则使得开发者能够在等待某些操作完成时，继续执行其他任务，从而提高了应用的响应能力和用户体验。\n",
      "\n",
      "这些改进使得 LangChain 1.0 不仅适用于简单的应用场景，更能够满足复杂系统的需求，适应不断变化的技术环境。开发者可以利用这些新特性，构建出更为灵活、高效的应用程序，推动业务的创新与发展。总之，LangChain 1.0 的推出为开发者提供了更强大的工具，助力他们在构建智能应用时，能够更加高效地实现目标。\n"
     ]
    }
   ],
   "source": [
    "from dotenv import load_dotenv\n",
    "import os\n",
    "from langchain_openai import ChatOpenAI\n",
    "from langchain_core.prompts import ChatPromptTemplate\n",
    "from langchain_core.output_parsers import StrOutputParser\n",
    "from langchain_core.runnables import RunnableSequence\n",
    "\n",
    "llm = ChatOpenAI(\n",
    "    openai_api_key=os.getenv(\"UIUIAPI_API_KEY\"),\n",
    "    base_url=os.getenv(\"UIUIAPI_BASE_URL\"),\n",
    "    model=\"gpt-3.5-turbo\",\n",
    "    temperature=0.3,\n",
    ")\n",
    "\n",
    "# 步骤1：将英文翻译成中文\n",
    "translate_prompt = ChatPromptTemplate.from_template(\"\"\"\n",
    "将以下的英文文本翻译成流畅的中文：\n",
    "{english_text}\n",
    "中文翻译：\n",
    "\"\"\")\n",
    "translate_chain = translate_prompt | llm | StrOutputParser()\n",
    "\n",
    "# 步骤2：总结中文内容\n",
    "summary_prompt = ChatPromptTemplate.from_template(\"\"\"\n",
    "总结以下中文文本的核心观点（不超过50字）：\n",
    "{chinese_text}\n",
    "总结：\n",
    "\"\"\")\n",
    "summary_chain = summary_prompt | llm | StrOutputParser()\n",
    "\n",
    "# 步骤3：基于总结扩写成详细说明\n",
    "expand_prompt = ChatPromptTemplate.from_template(\"\"\"\n",
    "将以下总结扩写成300字左右的详细说明：\n",
    "{summary_text}\n",
    "详细说明：\n",
    "\"\"\")\n",
    "expand_chain = expand_prompt | llm | StrOutputParser()\n",
    "\n",
    "# 步骤4：构建线性链\n",
    "total_chain = RunnableSequence(\n",
    "    # 第一步：翻译，输出到chinese_text变量\n",
    "    lambda x: {\"chinese_text\": translate_chain.invoke(x)},\n",
    "    # 第二步：总结，用chinese_text作为输入，输出到summary_text变量\n",
    "    lambda x: {\"summary_text\": summary_chain.invoke({\"chinese_text\": x[\"chinese_text\"]})},\n",
    "    # 第三步：扩写，用summary_text作为输入\n",
    "    expand_chain\n",
    ")\n",
    "\n",
    "# 运行链\n",
    "english_article = \"\"\"\n",
    "LangChain 1.0 introduces significant improvements in flexibility and performance. \n",
    "The new LCEL (LangChain Expression Language) allows developers to compose \n",
    "components more intuitively using the | operator, supporting streaming, \n",
    "parallel execution, and async operations.\n",
    "\"\"\"\n",
    "\n",
    "result = total_chain.invoke({\"english_text\": english_article})\n",
    "print(result)\n"
   ]
  },
  {
   "cell_type": "markdown",
   "id": "19ca1dae-ca92-4c7c-9e64-f9e712ffbba3",
   "metadata": {},
   "source": [
    "- 线性链的关键是**变量传递**：前一步的输出（如`chinese_text`需作为后一步的输入变量）\n",
    "\n",
    "- 支持 lambda 函数作为中间处理结果\n",
    "\n",
    "- 适合有明确先后顺序的任务，每一步都依赖上一步的结果"
   ]
  },
  {
   "cell_type": "markdown",
   "id": "e18bcb9e-2394-4b01-9ddf-8f03b9b72278",
   "metadata": {},
   "source": [
    "### 案例3：并行链 ———— 多维度内容分析"
   ]
  },
  {
   "cell_type": "markdown",
   "id": "7f034683-3da9-4668-9eb8-11247f55656c",
   "metadata": {},
   "source": [
    "- **适用场景**：需要同时执行多个独立任务（如多角度分析同一个文本）\n",
    "\n",
    "- **链类型**： `RunnableParallel`"
   ]
  },
  {
   "cell_type": "code",
   "execution_count": 8,
   "id": "f2de3ee3-2265-4292-b3da-ab6eb462c60c",
   "metadata": {},
   "outputs": [
    {
     "name": "stdout",
     "output_type": "stream",
     "text": [
      "{'sentiment': '这条评论是中性的。用户对无线耳机的续航能力表示满意，但对音质和佩戴舒适度有一些不满，希望能有改进。整体来说，评论中既有正面的评价也有负面的评价，因此可以判断为中性情感倾向。', 'keywords': '1. 无线耳机\\n2. 续航\\n3. 音质\\n4. 低音\\n5. 耳塞', 'suggestion': '改进建议：考虑提升耳机的音质表现，特别是低音部分，可以通过优化驱动单元或调音来增强低频效果。同时，针对佩戴舒适度问题，建议使用更柔软、透气的耳塞材质，以减少长时间佩戴带来的不适感。'}\n"
     ]
    }
   ],
   "source": [
    "from dotenv import load_dotenv\n",
    "import os\n",
    "from langchain_openai import ChatOpenAI\n",
    "from langchain_core.prompts import ChatPromptTemplate\n",
    "from langchain_core.output_parsers import StrOutputParser\n",
    "from langchain_core.runnables import RunnableParallel\n",
    "\n",
    "load_dotenv()\n",
    "\n",
    "llm = ChatOpenAI(\n",
    "    openai_api_key=os.getenv(\"UIUIAPI_API_KEY\"),\n",
    "    base_url=os.getenv(\"UIUIAPI_BASE_URL\"),\n",
    "    model=\"gpt-3.5-turbo\",\n",
    "    temperature=0.2,\n",
    ")\n",
    "\n",
    "# 1. 情感分析链\n",
    "sentiment_prompt = ChatPromptTemplate.from_template(\"\"\"\n",
    "分析以下用户评论的情感倾向（输出：正面/负面/中性）：\n",
    "{review}\n",
    "情感分析：\n",
    "\"\"\")\n",
    "sentiment_chain = sentiment_prompt | llm | StrOutputParser()\n",
    "\n",
    "# 2. 关键词提取链\n",
    "keyword_prompt = ChatPromptTemplate.from_template(\"\"\"\n",
    "从以下用户评论中提取最多5个核心的关键词：\n",
    "{review}\n",
    "关键词：\n",
    "\"\"\")\n",
    "keyword_chain = keyword_prompt | llm | StrOutputParser()\n",
    "\n",
    "# 3. 建议生成链\n",
    "suggestion_prompt = ChatPromptTemplate.from_template(\"\"\"\n",
    "基于以下用户评论，为商家提出1条改进建议：\n",
    "{review}\n",
    "改进建议：\n",
    "\"\"\")\n",
    "suggestion_chain = suggestion_prompt | llm | StrOutputParser()\n",
    "\n",
    "# 构建并行链（同时执行3个独立任务）\n",
    "parallel_chain = RunnableParallel(\n",
    "    sentiment=sentiment_chain,\n",
    "    keywords=keyword_chain,\n",
    "    suggestion=suggestion_chain\n",
    ")\n",
    "\n",
    "# 运行链（单输入同时喂给3个链）\n",
    "user_review = \"\"\"\n",
    "这款无线耳机续航不错，充一次能用10小时，但音质一般，尤其是低音部分比较弱。\n",
    "另外佩戴久了耳朵会有点疼，希望能改进耳塞的材质。\n",
    "\"\"\"\n",
    "\n",
    "result = parallel_chain.invoke({\"review\": user_review})\n",
    "\n",
    "print(result)\n"
   ]
  },
  {
   "cell_type": "markdown",
   "id": "9c777d5f-dc67-44f7-ade8-9c080a8dd11c",
   "metadata": {},
   "source": [
    "- 并行链的优势是**效率提升**：3个任务同时执行，总耗时约等于单个任务的耗时\n",
    "\n",
    "- 是个对同一个输入进行多维度分析\n",
    "\n",
    "- 注意：并行任务必须是相互独立的。"
   ]
  },
  {
   "cell_type": "markdown",
   "id": "25a09e98-909c-44ea-8f66-ac6d723eaa40",
   "metadata": {},
   "source": [
    "### 案例4：分支链 ———— 智能客服路由"
   ]
  },
  {
   "cell_type": "markdown",
   "id": "41903789-acac-402c-94c5-dff6dd8fa5d5",
   "metadata": {},
   "source": [
    "- **适用场景**：根据输入特征动态选择处理逻辑（如客服系统的问题分类处理）\n",
    "\n",
    "- **链类型**： `RunnableBranch`"
   ]
  },
  {
   "cell_type": "code",
   "execution_count": 11,
   "id": "4c807591-5fcc-4c08-b990-a7fd7885f4af",
   "metadata": {},
   "outputs": [
    {
     "name": "stdout",
     "output_type": "stream",
     "text": [
      "用户问题：我的订单12345什么时候发货？\n",
      "回复：已为您查询订单状态，您的订单12345目前处于[处理中]，预计24小时内发货。\n",
      "\n",
      "用户问题：我想退款，因为收到的商品有破损\n",
      "回复：已收到您的退款申请'我想退款，因为收到的商品有破损'，将在3个工作日内审核完成，结果将通过短信通知。\n",
      "\n",
      "用户问题：你们支持7天无理由退货吗？\n",
      "回复：感谢您的咨询，关于'你们支持7天无理由退货吗？'，我们将安排专属客服在1小时内与您联系。如果您有任何其他问题或需要帮助，请随时告诉我们。感谢您的支持！祝您生活愉快！\n",
      "\n"
     ]
    }
   ],
   "source": [
    "from dotenv import load_dotenv\n",
    "import os\n",
    "from langchain_openai import ChatOpenAI\n",
    "from langchain_core.prompts import ChatPromptTemplate\n",
    "from langchain_core.output_parsers import StrOutputParser\n",
    "from langchain_core.runnables import RunnableBranch, RunnableLambda\n",
    "\n",
    "load_dotenv()\n",
    "\n",
    "llm = ChatOpenAI(\n",
    "    openai_api_key=os.getenv(\"UIUIAPI_API_KEY\"),\n",
    "    base_url=os.getenv(\"UIUIAPI_BASE_URL\"),\n",
    "    model=\"gpt-3.5-turbo\",\n",
    "    temperature=0.1,\n",
    ")\n",
    "\n",
    "# 定义3种问题类型的处理链\n",
    "# 1. 订单查询处理链\n",
    "order_prompt = ChatPromptTemplate.from_template(\"\"\"\n",
    "你现在需要处理用户的订单查询：\n",
    "用户问题：{query}\n",
    "请回复：\"已为您查询订单状态，您的订单{query}目前处于[处理中]，预计24小时内发货。\"\n",
    "\"\"\")\n",
    "order_chain = order_prompt | llm | StrOutputParser()\n",
    "\n",
    "# 2. 退款处理链\n",
    "refund_prompt = ChatPromptTemplate.from_template(\"\"\"\n",
    "你现在需要处理用户的退款请求：\n",
    "用户问题：{query}\n",
    "请回复：\"已收到您的退款申请'{query}'，将在3个工作日内审核完成，结果将通过短信通知。\"\n",
    "\"\"\")\n",
    "refund_chain = refund_prompt | llm | StrOutputParser()\n",
    "\n",
    "## 3. 其他问题处理链（默认分支）\n",
    "other_prompt = ChatPromptTemplate.from_template(\"\"\"\n",
    "你现在需要回复用户的其他问题：\n",
    "用户问题：{query}\n",
    "请礼貌回复：\"感谢您的咨询，关于'{query}'，我们将安排专属客服在1小时内与您联系。\"\n",
    "\"\"\")\n",
    "other_chain = other_prompt | llm | StrOutputParser()\n",
    "\n",
    "# 构建分支链（根据问题类型路由到不同处理链）\n",
    "branch_chain = RunnableBranch(\n",
    "    # 条件1：包含“订单”关键词\n",
    "    (lambda x: \"订单\" in x[\"query\"], order_chain),\n",
    "    # 条件2：包含“退款”关键词\n",
    "    (lambda x: \"退款\" in x[\"query\"], refund_chain),\n",
    "    # 默认分支：其他问题\n",
    "    other_chain\n",
    ")\n",
    "\n",
    "# 测试不同类型的问题\n",
    "test_queries = [\n",
    "    \"我的订单12345什么时候发货？\",\n",
    "    \"我想退款，因为收到的商品有破损\",\n",
    "    \"你们支持7天无理由退货吗？\"\n",
    "]\n",
    "\n",
    "for query in test_queries:\n",
    "    print(f\"用户问题：{query}\")\n",
    "    print(f\"回复：{branch_chain.invoke({'query': query})}\\n\")\n",
    "\n"
   ]
  },
  {
   "cell_type": "markdown",
   "id": "3f33f9f6-36f4-426c-ac33-5373988e8455",
   "metadata": {},
   "source": [
    "- 分支链的核心是**条件判断**：每个分支由（条件函数、处理链）组成\n",
    "\n",
    "- 适合需要动态路由的场景"
   ]
  },
  {
   "cell_type": "markdown",
   "id": "b7ac6c23-718b-40b8-8376-740da2a22e6e",
   "metadata": {},
   "source": [
    "### 案例5：复杂组合链 ———— 长文本分析系统"
   ]
  },
  {
   "cell_type": "markdown",
   "id": "4988c456-ac1a-42d2-9065-efeb136cbda4",
   "metadata": {},
   "source": [
    "- **适用场景**：处理超长文本（如论文、报告）的综合分析\n",
    "\n",
    "- **链类型**：结合`RunnableParallel`、`RunnableSequence`、`TransformChain`功能"
   ]
  },
  {
   "cell_type": "code",
   "execution_count": 14,
   "id": "16766094-8633-4f91-b688-734ea8173998",
   "metadata": {},
   "outputs": [
    {
     "name": "stdout",
     "output_type": "stream",
     "text": [
      "全文总结：\n",
      " LangChain 1.0引入了LangChain Expression Language（LCEL），一种声明式语法，基于Runnable接口，支持灵活性、流式输出、异步操作和并行执行，提升应用性能。常见模式包括RunnableSequence、RunnableParallel和RunnableBranch，可相互嵌套形成复杂应用逻辑。LCEL简化了错误处理和日志记录，允许开发者添加中间件来捕获和处理组件执行中的异常，增强应用在生产环境中的稳定性。随着LangChain生态的发展，LCEL正逐渐成为构建LLM应用的标准方式。 \n",
      "\n",
      "关键词：\n",
      " 1. LangChain 1.0  \n",
      "2. LangChain Expression Language (LCEL)  \n",
      "3. 声明式语法  \n",
      "4. Runnable接口  \n",
      "5. 流式输出  \n",
      "6. 异步操作  \n",
      "7. 并行执行  \n",
      "8. 应用性能  \n",
      "9. 错误处理  \n",
      "10. 中间件   \n",
      "\n",
      "核心观点：\n",
      " 1. LangChain 1.0引入了LangChain Expression Language（LCEL），这是一种声明式语法，支持灵活性、流式输出、异步操作和并行执行，有助于提升应用性能。\n",
      "2. LCEL包括常见模式如RunnableSequence、RunnableParallel和RunnableBranch，这些模式可以相互嵌套形成复杂的应用逻辑，同时简化了错误处理和日志记录。\n",
      "3. LCEL允许开发者添加中间件来捕获和处理组件执行中的异常，从而增强应用在生产环境中的稳定性，随着LangChain生态的发展，LCEL正逐渐成为构建LLM应用的标准方式。\n"
     ]
    }
   ],
   "source": [
    "from dotenv import load_dotenv\n",
    "import os\n",
    "from langchain_openai import ChatOpenAI\n",
    "from langchain_core.prompts import ChatPromptTemplate\n",
    "from langchain_core.output_parsers import StrOutputParser\n",
    "from langchain_core.runnables import RunnableParallel, RunnableSequence\n",
    "from langchain.text_splitter import CharacterTextSplitter\n",
    "\n",
    "load_dotenv()\n",
    "\n",
    "llm = ChatOpenAI(\n",
    "    openai_api_key=os.getenv(\"UIUIAPI_API_KEY\"),\n",
    "    base_url=os.getenv(\"UIUIAPI_BASE_URL\"),\n",
    "    model=\"gpt-3.5-turbo\",\n",
    "    temperature=0.2\n",
    ")\n",
    "\n",
    "# 步骤1：文本分割（处理长文档）\n",
    "def split_text(input_dict):\n",
    "    text = input_dict[\"long_text\"]\n",
    "    # 按字符分割，每块500字符，重叠50字符\n",
    "    text_splitter = CharacterTextSplitter(\n",
    "        chunk_size=500,\n",
    "        chunk_overlap=50,\n",
    "        separator=\"\\n\"\n",
    "    )\n",
    "    chunks = text_splitter.split_text(text)\n",
    "    return {\"chunks\": chunks}\n",
    "\n",
    "# 步骤2：分块总结（对每个片段生成小结）\n",
    "chunk_summary_prompt = ChatPromptTemplate.from_template(\"\"\"\n",
    "总结以下文档片段的核心内容：\n",
    "{chunk}\n",
    "小结：\n",
    "\"\"\")\n",
    "chunk_summary_chain = chunk_summary_prompt | llm | StrOutputParser()\n",
    "\n",
    "# 步骤3：合并小结（生成全文总结）\n",
    "merge_summary_prompt = ChatPromptTemplate.from_template(\"\"\"\n",
    "将以下多个文档小结合并为一篇连贯的全文总结：\n",
    "{chunk_summaries}\n",
    "全文总结：\n",
    "\"\"\")\n",
    "merge_summary_chain = merge_summary_prompt | llm | StrOutputParser()\n",
    "\n",
    "# 步骤4：并行生成关键词和核心观点（基于全文总结）\n",
    "keyword_chain = ChatPromptTemplate.from_template(\"\"\"\n",
    "从以下总结中提取10个核心关键词：\n",
    "{full_summary}\n",
    "关键词：\n",
    "\"\"\") | llm | StrOutputParser()\n",
    "\n",
    "key_point_chain = ChatPromptTemplate.from_template(\"\"\"\n",
    "从以下总结中提炼3个核心观点：\n",
    "{full_summary}\n",
    "核心观点：\n",
    "\"\"\") | llm | StrOutputParser()\n",
    "\n",
    "# 构建总链\n",
    "total_chain = RunnableSequence(\n",
    "    # 1. 分割文本\n",
    "    split_text,\n",
    "    # 2. 分块总结（对每个chunk应用chunk_summary_chain）\n",
    "    lambda x: {\"chunk_summaries\": \"\\n\".join([chunk_summary_chain.invoke({\"chunk\": c}) for c in x[\"chunks\"]])},\n",
    "    # 3. 合并小结生成全文总结\n",
    "    lambda x: {\"full_summary\": merge_summary_chain.invoke(x)},\n",
    "    # 4. 并行生成关键词和核心观点\n",
    "    RunnableParallel(\n",
    "        full_summary=lambda x: x[\"full_summary\"],\n",
    "        keywords=keyword_chain,\n",
    "        key_points=key_point_chain\n",
    "    )\n",
    ")\n",
    "\n",
    "# 测试长文本（模拟一篇技术文章）\n",
    "long_text = \"\"\"\n",
    "LangChain 1.0的核心更新之一是引入了LangChain Expression Language（LCEL），这是一种用于组合组件的声明式语法。\n",
    "LCEL基于Runnable接口，允许开发者使用|运算符连接不同组件，构建复杂的工作流。\n",
    "\n",
    "与传统的链类型相比，LCEL提供了多项优势：首先是灵活性，开发者可以更直观地组合组件，无需记忆特定的链类；\n",
    "其次是支持流式输出，这对构建实时交互应用至关重要；此外，LCEL原生支持异步操作和并行执行，\n",
    "能显著提升应用性能。\n",
    "\n",
    "在实际应用中，LCEL的常见模式包括：RunnableSequence用于线性流程，RunnableParallel用于并行任务，\n",
    "RunnableBranch用于条件分支。这些模式可以相互嵌套，形成复杂的应用逻辑。例如，一个智能问答系统\n",
    "可能先使用RunnableBranch判断问题类型，再用RunnableSequence执行检索-生成流程，同时用\n",
    "RunnableParallel进行多源信息验证。\n",
    "\n",
    "LCEL还简化了错误处理和日志记录，开发者可以通过添加中间件来捕获和处理组件执行中的异常，\n",
    "这对于生产环境中的应用稳定性至关重要。随着LangChain生态的发展，LCEL正成为构建\n",
    "LLM应用的标准方式。\n",
    "\"\"\"\n",
    "\n",
    "# 运行链\n",
    "result = total_chain.invoke({\"long_text\": long_text})\n",
    "\n",
    "# 输出结果\n",
    "print(\"全文总结：\\n\", result[\"full_summary\"], \"\\n\")\n",
    "print(\"关键词：\\n\", result[\"keywords\"], \"\\n\")\n",
    "print(\"核心观点：\\n\", result[\"key_points\"])\n"
   ]
  },
  {
   "cell_type": "code",
   "execution_count": null,
   "id": "ffaa366d-3725-4038-a1e5-f82759013aab",
   "metadata": {},
   "outputs": [],
   "source": []
  }
 ],
 "metadata": {
  "kernelspec": {
   "display_name": "Python 3 (ipykernel)",
   "language": "python",
   "name": "python3"
  },
  "language_info": {
   "codemirror_mode": {
    "name": "ipython",
    "version": 3
   },
   "file_extension": ".py",
   "mimetype": "text/x-python",
   "name": "python",
   "nbconvert_exporter": "python",
   "pygments_lexer": "ipython3",
   "version": "3.12.3"
  }
 },
 "nbformat": 4,
 "nbformat_minor": 5
}
