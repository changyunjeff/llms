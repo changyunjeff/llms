{
 "cells": [
  {
   "cell_type": "markdown",
   "id": "28f43359-0392-4a43-834e-6131704851f1",
   "metadata": {},
   "source": [
    "# Langgraph（图驱动工作流引擎）"
   ]
  },
  {
   "cell_type": "markdown",
   "id": "fb241dce-c91c-4038-b90d-5f575b49b3bf",
   "metadata": {},
   "source": [
    "LangGraph 是 LangChain 生态中专门用于 **构建复杂状态化 AI 应用** 的核心模块，其核心设计理念是通过 **图结构（Graph）** 管理多步骤任务流，并 **提供持久化状态管理** 能力。它解决了传统 LangChain 在处理循环、条件分支、多智能体协作等场景时的局限性，是构建企业级 AI 系统的关键工具。\n",
    "\n",
    "LangGraph 通过图结构 + 状态管理，将复杂 AI 应用的开发从 “链式编程” 升级为 “可视化建模”。其核心价值在于：\n",
    "\n",
    "1. 可维护性：图结构清晰展示执行逻辑，降低协作成本。\n",
    "\n",
    "2. 鲁棒性：自动状态持久化和错误恢复，减少生产故障。\n",
    "\n",
    "3. 扩展性：模块化设计支持增量开发，适配从原型到生产的全生命周期。\n",
    "\n",
    "通过掌握 LangGraph，开发者能够构建真正具备 “长期记忆” 和 “动态决策” 能力的 AI 系统，为企业级应用提供坚实基础。后续的 Memory 模块正是基于 LangGraph 的状态管理机制实现的，理解上述内容是深入学习 Memory 的关键。"
   ]
  },
  {
   "cell_type": "markdown",
   "id": "a171ca34-74a4-419a-8dd3-20feff555294",
   "metadata": {},
   "source": [
    "## 一、LangGraph 的核心定位与优势"
   ]
  },
  {
   "cell_type": "markdown",
   "id": "79082716-30a9-4c80-937c-f9d324d001a9",
   "metadata": {},
   "source": [
    "**1. 与LangChain 的本质区别**\n",
    "\n",
    "|**维度**|\t**LangChain**|\t**LangGraph**|\n",
    "|--|--|--|\n",
    "|**核心抽象**|\t链式流程（Chains）|\t图结构（Graph）|\n",
    "|**状态管理**|\t有限的内存模块（如 ConversationBufferMemory）|\t原生支持持久化状态（Checkpointer+Store）|\n",
    "|**控制流**|\t线性执行（DAG）|\t支持循环、条件分支、多智能体协作|\n",
    "|**适用场景**|\t简单问答、单步骤任务|\t复杂对话、自动化工作流、多智能体系统|\n"
   ]
  },
  {
   "cell_type": "markdown",
   "id": "908542e3-57e6-4e5c-a25c-0c93d6e4341a",
   "metadata": {},
   "source": [
    "**2. 核心优势**\n",
    "\n",
    "- **动态流程控制**：支持条件分支（如`if-else`）和循环（如重试逻辑），适合需要多轮推理的场景。\n",
    "\n",
    "- **状态持久化**：自动保存执行过程中的状态快照（Checkpoint），支持断点续传和时间回溯。\n",
    "\n",
    "- **人机协作**：允许人工干预流程（如审核AI生成的内容），适合医疗、金融等需要合规性的场景。\n",
    "\n",
    "- **可视化调试**：提供 `Mermaid` 格式的图结构可视化工具，帮助理解复杂的执行路径。"
   ]
  },
  {
   "cell_type": "markdown",
   "id": "d4ee4384-8ada-4f2e-bdb8-c3143748aed5",
   "metadata": {},
   "source": [
    "## 二、核心组件与原理"
   ]
  },
  {
   "cell_type": "markdown",
   "id": "e7b5e8bc-6e9b-4046-8ec6-044ffc94dead",
   "metadata": {},
   "source": [
    "### 1. StateGraph：工作流的“蓝图”"
   ]
  },
  {
   "cell_type": "markdown",
   "id": "a655dbe3-1e0c-4c8b-b7dc-4510e3aaa0af",
   "metadata": {},
   "source": [
    "- **定义**：用有向图描述任务流，节点（Node）代表原子操作，边（Edge）定义执行顺序。\n",
    "\n",
    "- **关键特性**：\n",
    "\n",
    "    - **节点类型**：支持LLM调用、工具执行、数据处理等自定义函数。\n",
    " \n",
    "    - **条件边**：基于状态动态选择执行路径（如根据用户输入决定下一步操作）。\n",
    " \n",
    "    - **循环支持**：通过 `add_edge` 连接节点形成闭环、实现重试或迭代逻辑。"
   ]
  },
  {
   "cell_type": "code",
   "execution_count": 1,
   "id": "d415fe76-adb6-42b3-9610-ea15698b1ab4",
   "metadata": {},
   "outputs": [
    {
     "name": "stdout",
     "output_type": "stream",
     "text": [
      "响应：处理输入：你好！\n"
     ]
    }
   ],
   "source": [
    "from typing import TypedDict\n",
    "from langgraph.graph import StateGraph, START, END\n",
    "\n",
    "# 定义状态结构\n",
    "class AgentState(TypedDict):\n",
    "    input: str\n",
    "    output: str\n",
    "\n",
    "# 定义节点函数\n",
    "def process_input(state: AgentState) -> AgentState:\n",
    "    return {\"output\": f\"处理输入：{state['input']}\"}\n",
    "\n",
    "def generate_response(state: AgentState) -> AgentState:\n",
    "    return {\"output\": f\"响应：{state['output']}\"}\n",
    "\n",
    "# 构建图：\n",
    "graph = StateGraph(AgentState)\n",
    "graph.add_node(\"process\", process_input)\n",
    "graph.add_node(\"respond\", generate_response)\n",
    "graph.add_edge(START, \"process\")\n",
    "graph.add_edge(\"process\", \"respond\")\n",
    "graph.add_edge(\"respond\", END)\n",
    "\n",
    "# 编译并执行\n",
    "compiled_graph = graph.compile()\n",
    "result = compiled_graph.invoke({\"input\": \"你好！\"})\n",
    "print(result[\"output\"])  # 输出：响应：处理输入：你好！\n"
   ]
  },
  {
   "cell_type": "markdown",
   "id": "985dbfdd-5a00-4b97-bc3b-12e1c5cb9fc0",
   "metadata": {},
   "source": [
    "### 2. State：贯穿全流程的数据载体"
   ]
  },
  {
   "cell_type": "markdown",
   "id": "4bba4691-2a76-4348-905f-0da4bd721fd9",
   "metadata": {},
   "source": [
    "- **定义**：就是图中的全局数据，通常用于存储对话历史、中间结果等关键信息，用`TypedDict`或字典描述。\n",
    "\n",
    "- **核心机制**：\n",
    "\n",
    "    - **Reducer**：定义状态更新规则（如合并列表、覆盖至），避免数据冲突。\n",
    " \n",
    "    - **注入与访问**：节点函数通过参数直接获取当前状态，更新后返回增量数据。"
   ]
  },
  {
   "cell_type": "code",
   "execution_count": 14,
   "id": "bef5489f-5f15-46ae-8177-0890ca8fd087",
   "metadata": {},
   "outputs": [],
   "source": [
    "from typing import TypedDict, Annotated\n",
    "from langchain_core.messages import BaseMessage, HumanMessage, AIMessage, RemoveMessage\n",
    "from langgraph.graph import add_messages #官网提供的消息Reducer\n",
    "\n",
    "# 定义图的状态\n",
    "class AgentState(TypedDict):\n",
    "    messages: Annotated[list[BaseMessage], add_messages] # 使用 add_messages 合并消息\n",
    "    content: str # 新增： 存储用户输入的cnotent参数（供add_user_message读取）\n",
    "\n",
    "def add_user_message(state: AgentState) -> AgentState:\n",
    "    # 从状态中读取content参数\n",
    "    user_content = state[\"content\"]\n",
    "    return {\"messages\": [HumanMessage(content=user_content)]} # 自动合并到原有messages\n",
    "\n",
    "from langchain_openai import ChatOpenAI\n",
    "from dotenv import load_dotenv\n",
    "import os\n",
    "\n",
    "load_dotenv()\n",
    "\n",
    "llm = ChatOpenAI(\n",
    "    api_key=os.getenv(\"UIUIAPI_API_KEY\"),\n",
    "    base_url=os.getenv(\"UIUIAPI_BASE_URL\"),\n",
    "    model=\"gpt-3.5-turbo\",\n",
    "    temperature=0.3\n",
    ")\n",
    "\n",
    "def ai_respond(state: AgentState) -> AgentState:\n",
    "    response = llm.invoke(state[\"messages\"]) # 使用当前对话历史调用LLM\n",
    "    return {\"messages\": [response]}"
   ]
  },
  {
   "cell_type": "markdown",
   "id": "8a38695d-1e80-4771-b259-3ac287619d92",
   "metadata": {},
   "source": [
    "### 3. Checkpointer：短期记忆的“保险箱”"
   ]
  },
  {
   "cell_type": "markdown",
   "id": "a7e76ec2-ae69-4582-a835-4fef8541ab9a",
   "metadata": {},
   "source": [
    "- **作用**：按对话线程（`thread_id`）保存状态快照，支持多轮对话上下文连续性。\n",
    "\n",
    "- **核心实现**：\n",
    "\n",
    "    - **内存级**：`InMemorySaver`（开发测试用）。\n",
    " \n",
    "    - **生产级**： `MongoDBSaver`、`PostgresSaver`等。"
   ]
  },
  {
   "cell_type": "code",
   "execution_count": 18,
   "id": "a39d6935-c330-423f-99e2-f8dc3d5138bf",
   "metadata": {},
   "outputs": [
    {
     "name": "stdout",
     "output_type": "stream",
     "text": [
      "您刚才提问的内容是：Python是世界上最好的语言。\n"
     ]
    }
   ],
   "source": [
    "from langgraph.checkpoint.memory import InMemorySaver\n",
    "\n",
    "# 初始化Checkpointer\n",
    "checkpointer = InMemorySaver()\n",
    "\n",
    "# 构建图并绑定Checkpointer\n",
    "graph = StateGraph(AgentState)\n",
    "graph.add_node(\"add_message\", add_user_message)\n",
    "graph.add_node(\"get_response\", ai_respond)\n",
    "\n",
    "graph.add_edge(START, \"add_message\")\n",
    "graph.add_edge(\"add_message\", \"get_response\")\n",
    "graph.add_edge(\"get_response\", END)\n",
    "\n",
    "# 绑定Checkpointer 并 编译图\n",
    "compiled_graph = graph.compile(checkpointer=checkpointer)\n",
    "\n",
    "# 多轮对话\n",
    "config = {\"configurable\": {\"thread_id\": \"user_changyun_001\"}}\n",
    "\n",
    "result = compiled_graph.invoke(\n",
    "    input={\n",
    "        \"content\": \"Python是世界上最好的语言\", # 传入content参数（存入state）\n",
    "        \"messages\": [] # 初始的对话历史为空\n",
    "    },\n",
    "    config=config\n",
    ")\n",
    "\n",
    "result2 = compiled_graph.invoke(\n",
    "    input={\n",
    "        \"content\": \"请重复一下我刚才的提问内容\",\n",
    "    },\n",
    "    config=config\n",
    ")\n",
    "\n",
    "print(result2['messages'][-1].content)\n"
   ]
  },
  {
   "cell_type": "markdown",
   "id": "a148d40f-1709-49fa-af07-f18546aeff43",
   "metadata": {},
   "source": [
    "### 4. Store：长期存储的“知识库”"
   ]
  },
  {
   "cell_type": "markdown",
   "id": "c9dfb8ce-873f-4955-84ee-bb6913688e5b",
   "metadata": {},
   "source": [
    "- **作用**：跨对话线程 **存储持久化数据** （如用户偏好、历史记录）支持向量检索\n",
    "\n",
    "- **核心接口**：\n",
    "\n",
    "    - `put/get`：按键值对读写数据。\n",
    " \n",
    "    - `seach`：基于内容相似度检索（需配合嵌入函数）。"
   ]
  },
  {
   "cell_type": "code",
   "execution_count": 26,
   "id": "a04799c9-690e-46a6-afff-e31ae8063cb4",
   "metadata": {},
   "outputs": [
    {
     "name": "stdout",
     "output_type": "stream",
     "text": [
      "English\n",
      "changyun\n"
     ]
    }
   ],
   "source": [
    "from langgraph.store.memory import InMemoryStore\n",
    "\n",
    "# 初始化Store\n",
    "store = InMemoryStore()\n",
    "\n",
    "# help(store)\n",
    "\n",
    "store.put(\n",
    "    namespace=(\"user_changyun\", \"preferences\"),\n",
    "    key=\"language\",\n",
    "    value={\"preferred_lang\": \"English\"}\n",
    ")\n",
    "\n",
    "store.put(\n",
    "    namespace=(\"user_changyun\", \"info\"),\n",
    "    key=\"last_name\",\n",
    "    value=\"changyun\"\n",
    ")\n",
    "\n",
    "# 跨线程读取\n",
    "result = store.get(namespace=(\"user_changyun\", \"preferences\"), key=\"language\")\n",
    "print(result.value[\"preferred_lang\"])\n",
    "result2 = store.get(namespace=(\"user_changyun\", \"info\"), key=\"last_name\")\n",
    "print(result2.value)"
   ]
  },
  {
   "cell_type": "markdown",
   "id": "37c7b48d-5533-4972-8b7e-1c5bbd241009",
   "metadata": {},
   "source": [
    "## 三、关键实践：从基础到高级"
   ]
  },
  {
   "cell_type": "markdown",
   "id": "21b05e1c-95a6-4b43-8a60-2b7834c3e727",
   "metadata": {},
   "source": [
    "### 1. 条件分支"
   ]
  },
  {
   "cell_type": "code",
   "execution_count": 47,
   "id": "cc4f489c-43f0-4a68-b4ef-34edb6006757",
   "metadata": {},
   "outputs": [
    {
     "name": "stdout",
     "output_type": "stream",
     "text": [
      "Hello! How can I help you?\n"
     ]
    }
   ],
   "source": [
    "from typing import TypedDict, Annotated\n",
    "from langchain_core.messages import BaseMessage, HumanMessage, AIMessage\n",
    "from langgraph.graph.message import add_messages\n",
    "from langchain_core.prompts import ChatPromptTemplate\n",
    "from langgraph.graph import StateGraph, START, END\n",
    "\n",
    "# 定义图的状态\n",
    "class BranchState(TypedDict):\n",
    "    messages: Annotated[list[BaseMessage], add_messages]\n",
    "    content: str\n",
    "\n",
    "def router(state: BranchState) -> str:\n",
    "    user_input = state[\"content\"].lower()  # 转为小写，使判断更健壮\n",
    "    return \"hello_case\" if \"hello\" in user_input else \"other_case\"\n",
    "\n",
    "# 定义节点处理函数\n",
    "def process_a(state: BranchState) -> BranchState:\n",
    "    \"\"\"处理包含hello的输入\"\"\"\n",
    "    return {\n",
    "        \"messages\": [AIMessage(content=\"Hello! How can I help you?\")],\n",
    "        \"content\": state[\"content\"]\n",
    "    }\n",
    "\n",
    "def process_b(state: BranchState) -> BranchState:\n",
    "    \"\"\"处理不包含hello的输入\"\"\"\n",
    "    return {\n",
    "        \"messages\": [AIMessage(content=\"Goodbye! Have a nice day!\")],\n",
    "        \"content\": state[\"content\"]  # 保留原始内容\n",
    "    }\n",
    "\n",
    "# 创建状态图\n",
    "graph = StateGraph(BranchState)\n",
    "\n",
    "# 添加节点\n",
    "graph.add_node(\"router\", router)\n",
    "graph.add_node(\"process_a\", process_a)\n",
    "graph.add_node(\"process_b\", process_b)\n",
    "\n",
    "# 定义边\n",
    "# graph.add_edge(START, \"router\")\n",
    "# help(graph.add_conditional_edges)\n",
    "graph.add_conditional_edges(\n",
    "    source=START,  # 源节点\n",
    "    path=router,   # 条件处理函数: 使用路由函数返回值作为条件\n",
    "    path_map={\n",
    "        \"hello_case\": \"process_a\",\n",
    "        \"other_case\": \"process_b\",\n",
    "    }\n",
    ")\n",
    "graph.add_edge(\"process_a\", END)\n",
    "graph.add_edge(\"process_b\", END)\n",
    "\n",
    "# 编译图\n",
    "compiled_graph = graph.compile()\n",
    "\n",
    "config = {\"configurable\": {\"thread_id\": \"user_changyun_002\"}}\n",
    "\n",
    "try:\n",
    "    result = compiled_graph.invoke(\n",
    "        input={\n",
    "            \"content\": \"hello! gpt!\",\n",
    "            \"messages\": []\n",
    "        },\n",
    "        config=config\n",
    "    )\n",
    "    \n",
    "    print(result[\"messages\"][-1].content)\n",
    "except Exception as e:\n",
    "    print(f\"Error occurred: {str(e)}\")\n"
   ]
  },
  {
   "cell_type": "code",
   "execution_count": null,
   "id": "9f417c59-4495-40cd-8f95-8409eb430a43",
   "metadata": {},
   "outputs": [],
   "source": []
  }
 ],
 "metadata": {
  "kernelspec": {
   "display_name": "Python 3 (ipykernel)",
   "language": "python",
   "name": "python3"
  },
  "language_info": {
   "codemirror_mode": {
    "name": "ipython",
    "version": 3
   },
   "file_extension": ".py",
   "mimetype": "text/x-python",
   "name": "python",
   "nbconvert_exporter": "python",
   "pygments_lexer": "ipython3",
   "version": "3.12.3"
  }
 },
 "nbformat": 4,
 "nbformat_minor": 5
}
