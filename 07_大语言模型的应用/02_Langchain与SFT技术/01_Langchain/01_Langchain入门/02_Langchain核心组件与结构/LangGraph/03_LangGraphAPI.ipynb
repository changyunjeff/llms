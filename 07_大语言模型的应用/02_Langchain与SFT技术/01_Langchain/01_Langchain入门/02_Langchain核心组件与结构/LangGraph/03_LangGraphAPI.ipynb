{
 "cells": [
  {
   "cell_type": "markdown",
   "id": "9e45598c-b3a0-4dd1-80fa-5be40456db8b",
   "metadata": {},
   "source": [
    "# 3 Langgraph API"
   ]
  },
  {
   "cell_type": "markdown",
   "id": "b43a9531-89f1-495c-9656-a54891f0e71c",
   "metadata": {},
   "source": [
    "Graph API 是 LangGraph 构建工作流 / 智能体的「底层骨架」，所有复杂流程（如并行任务、循环优化）都基于它的核心概念实现。本教学按「基础概念→核心组件→实战用法→高级特性」的顺序，用「概念 + 代码 + 解析」的方式，帮你完全掌握 Graph API。"
   ]
  },
  {
   "cell_type": "markdown",
   "id": "bd0b00ae-ed26-4f17-9298-8204ab39dad7",
   "metadata": {},
   "source": [
    "## 第零步：配置LangSmith（可选但强烈推荐）"
   ]
  },
  {
   "cell_type": "markdown",
   "id": "4409bcd8-e6a8-4bc6-b17c-c846f2dec5c1",
   "metadata": {},
   "source": [
    "LangSmith 是 LangChain 官方的调试工具，可追踪 Graph 执行轨迹、查看状态变化、定位问题。\n",
    "\n",
    "**操作步骤**：\n",
    "\n",
    "1. 访问 LangSmith 官网 注册账号；\n",
    "\n",
    "2. 获取 API 密钥（在账号设置中找到「API Keys」）；\n",
    "\n",
    "3. 在代码中设置环境变量（或通过终端 export）："
   ]
  },
  {
   "cell_type": "code",
   "execution_count": 31,
   "id": "9c2fc1b8-9e1e-4abe-933d-99f735f4ae90",
   "metadata": {},
   "outputs": [],
   "source": [
    "import os\n",
    "import getpass\n",
    "from dotenv import load_dotenv\n",
    "\n",
    "load_dotenv()\n",
    "\n",
    "if not os.environ.get(\"LANGCHAIN_API_KEY\"):\n",
    "    os.environ[\"LANGCHAIN_API_KEY\"] = getpass.getpass(\"请输入LangSmith API密钥：\")\n",
    "os.environ[\"LANGCHAIN_TRACING_V2\"] = \"true\"  # 开启追踪\n",
    "os.environ[\"LANGCHAIN_PROJECT\"] = \"LangGraph-Use-Graph-API\"  # 项目名（自定义）"
   ]
  },
  {
   "cell_type": "markdown",
   "id": "eb03da83-703e-45e5-95dd-40b4056caf6c",
   "metadata": {},
   "source": [
    "## 第一步：先搞懂 Graph API 的核心三要素"
   ]
  },
  {
   "cell_type": "markdown",
   "id": "65562efe-b8ac-4c3b-87a2-543524047895",
   "metadata": {},
   "source": [
    "LangGraph 本质是用「图（Graph）」模型描述工作流，而图的构成依赖三个不可缺少的要素：**State（状态）**、**Nodes（节点）**、**Edges（边）**。这是理解所有后续内容的基础。\n",
    "\n",
    "|**要素**|\t**核心作用**|\t**类比（生活化理解）**|\n",
    "|--|--|--|\n",
    "|**State**|\t共享数据结构，存储工作流的「当前快照」|\t厨房的「食材台」（所有步骤都用这里的食材）|\n",
    "|**Nodes**|\t执行逻辑的函数（计算 / 调用工具 / LLM）|\t厨房的「厨师」（负责处理食材，产出半成品）|\n",
    "|**Edges**|\t控制流程的规则，决定「下一个执行哪个节点」|\t厨房的「流程单」（告诉厨师做完后交给谁）|\n"
   ]
  },
  {
   "cell_type": "markdown",
   "id": "e54c0022-d445-4292-8f98-b2509c50f401",
   "metadata": {},
   "source": [
    "## 第二步：核心图类「StateGraph」与编译流程"
   ]
  },
  {
   "cell_type": "markdown",
   "id": "ffd1360f-f127-425b-8d6b-5f566e3a4bc2",
   "metadata": {},
   "source": [
    "LangGraph 中最常用的图是 StateGraph（专为有状态工作流设计），使用它必须经过「定义→添加节点 / 边→编译」三个步骤，**编译是必做步骤**（否则图无法执行）。"
   ]
  },
  {
   "cell_type": "code",
   "execution_count": 2,
   "id": "525d9cf0-8b22-4173-b716-dad388dbacb5",
   "metadata": {},
   "outputs": [
    {
     "data": {
      "image/png": "[encoded data removed]",
      "text/plain": [
       "<IPython.core.display.Image object>"
      ]
     },
     "metadata": {},
     "output_type": "display_data"
    },
    {
     "name": "stdout",
     "output_type": "stream",
     "text": [
      "处理后：Hello Graph API\n"
     ]
    }
   ],
   "source": [
    "from typing_extensions import TypedDict\n",
    "from langgraph.graph import StateGraph, START, END\n",
    "from IPython.display import Image\n",
    "\n",
    "# 1. 定义State：存储输入和结果\n",
    "class MyState(TypedDict):\n",
    "    user_input: str\n",
    "    result: str\n",
    "\n",
    "# 2. 初始化 StateGraph\n",
    "graph = StateGraph(MyState)\n",
    "\n",
    "# 3. 定义节点\n",
    "def process_input(state: MyState):\n",
    "    return {\"result\": f\"处理后：{state['user_input']}\"}\n",
    "\n",
    "# 4. 添加节点\n",
    "graph.add_node(\"process_input\", process_input)\n",
    "\n",
    "graph.add_edge(START, \"process_input\")\n",
    "graph.add_edge(\"process_input\", END)\n",
    "\n",
    "agent = graph.compile()\n",
    "display(Image(agent.get_graph(xray=True).draw_mermaid_png()))\n",
    "out_put = agent.invoke({\"user_input\": \"Hello Graph API\"})\n",
    "print(out_put[\"result\"])"
   ]
  },
  {
   "cell_type": "markdown",
   "id": "a6c1700d-41eb-46c2-8bc3-77646ff954bd",
   "metadata": {},
   "source": [
    "**编译的作用**\n",
    "\n",
    "- **结构校验**：检查是否有 “孤儿节点”（没有边连接的节点）、是否遗漏 START/END 等。\n",
    "\n",
    "- **绑定运行时**：配置缓存、断点、递归限制等运行参数（后续会讲）。\n",
    "\n",
    "- **生成执行逻辑**：将节点和边的定义转化为可执行的流程，支持并行、循环等复杂逻辑。"
   ]
  },
  {
   "cell_type": "markdown",
   "id": "0c891fc4-db8a-42db-be3f-9831dcca7376",
   "metadata": {},
   "source": [
    "## 第三步：深入理解「State（状态）」—— 工作流的 “共享内存”"
   ]
  },
  {
   "cell_type": "markdown",
   "id": "51114d09-4c7a-49ea-b46e-1df6b5ced1ed",
   "metadata": {},
   "source": [
    "State 是 Graph API 的核心，所有节点的交互都通过 State 完成。需要重点掌握「State Schema（状态结构）」和「Reducers（状态更新规则）」两个关键点。"
   ]
  },
  {
   "cell_type": "markdown",
   "id": "8d07db25-25d4-4fbd-881e-3d4d04a8e6e3",
   "metadata": {
    "jp-MarkdownHeadingCollapsed": true
   },
   "source": [
    "### 3.1 State Schema：定义状态的 “数据结构”"
   ]
  },
  {
   "cell_type": "markdown",
   "id": "7aab5bb2-a47c-40f8-8abd-53037d5f3b58",
   "metadata": {},
   "source": [
    "Schema 规定了 State 包含哪些字段（如 user_input、result），支持三种定义方式，各有适用场景：\n",
    "\n",
    "|**定义方式**|\t**优点**|\t**适用场景**|\t**代码示例**|\n",
    "|--|--|--|--|\n",
    "|**TypedDict**|\t性能最优，简洁|\t无需数据验证，追求效率|\t`class MyState(TypedDict): foo: int`|\n",
    "|**dataclass**|\t支持默认值，可读性好|\t需要给字段设默认值|\t`@dataclass class MyState: foo: int = 0`|\n",
    "|**Pydantic Model**|\t支持数据验证（类型 / 范围）|\t需要确保输入合法性（如数值范围）|\t`class MyState(BaseModel): foo: int = Field(ge=0)`|\n",
    "\n",
    "\n",
    "**进阶：多 Schema 设计（输入 / 输出 / 内部状态分离）**\n",
    "\n",
    "实际场景中，常需要区分「用户输入字段」「工作流输出字段」「内部临时字段」，这时可以用「多 Schema 组合」："
   ]
  },
  {
   "cell_type": "code",
   "execution_count": 35,
   "id": "63c08ca3-10f7-4f5a-a1c9-3df40c283a35",
   "metadata": {},
   "outputs": [
    {
     "data": {
      "image/png": "[encoded data removed]",
      "text/plain": [
       "<IPython.core.display.Image object>"
      ]
     },
     "metadata": {},
     "output_type": "display_data"
    },
    {
     "name": "stdout",
     "output_type": "stream",
     "text": [
      "{'final_result': '最终：临时处理：测试多Schema'}\n"
     ]
    }
   ],
   "source": [
    "from typing_extensions import TypedDict\n",
    "from langgraph.graph import StateGraph, START, END\n",
    "from IPython.display import Image\n",
    "\n",
    "# 1. 定义输入Schema（用户只需传这些字段）\n",
    "class InputSchema(TypedDict):\n",
    "    user_input: str\n",
    "\n",
    "# 2. 定义输出Schema（用户最终能拿到这些字段）\n",
    "class OutputSchema(TypedDict):\n",
    "    final_result: str\n",
    "\n",
    "# 3. 定义内部Schema（工作流内部使用的所有字段）\n",
    "class InternalSchema(TypedDict):\n",
    "    user_input: str\n",
    "    temp_data: str\n",
    "    final_result: str\n",
    "\n",
    "# 4. 初始化StateGraph\n",
    "graph = StateGraph(\n",
    "    InternalSchema,\n",
    "    input_schema=InputSchema,   # 限制输入字段\n",
    "    output_schema=OutputSchema, # 限制输出字段\n",
    ")\n",
    "\n",
    "# 5. 定义节点\n",
    "def node1(state: InputSchema) -> InternalSchema:\n",
    "    # 输入：读取 InputSchema 的 user_input\n",
    "    # 输出：更新 InternalSchema 的 temp_data\n",
    "    return {\"temp_data\": f\"临时处理：{state['user_input']}\"}\n",
    "\n",
    "def node2(state: InternalSchema) -> OutputSchema:\n",
    "    # 输入：读取 InternalSchema 的 temp_data\n",
    "    # 输出：更新 OutputSchema 的 final_result\n",
    "    return {\"final_result\": f\"最终：{state['temp_data']}\"}\n",
    "\n",
    "# 6. 添加节点和边\n",
    "graph.add_sequence([node1, node2]) # 顺序序列的简写\n",
    "graph.add_edge(START, \"node1\")\n",
    "graph.add_edge(\"node2\", END)\n",
    "\n",
    "# 7. 编译并执行\n",
    "agent = graph.compile()\n",
    "display(Image(agent.get_graph().draw_mermaid_png()))\n",
    "output = agent.invoke({\"user_input\": \"测试多Schema\"})\n",
    "print(output)"
   ]
  },
  {
   "cell_type": "markdown",
   "id": "8103a45d-9934-4795-8cda-3111d78a03f7",
   "metadata": {},
   "source": [
    "### 3.2 Reducers: 定义状态的“更新规则”"
   ]
  },
  {
   "cell_type": "markdown",
   "id": "8f4e80e1-c13d-42a9-bec6-ccf73f592238",
   "metadata": {},
   "source": [
    "每个 State 字段都有自己的更新规则（Reducer），默认规则是「覆盖」（新值替换旧值）。但实际场景中需要「合并」（如累加列表、追加消息），这时需要显式指定 Reducer。\n",
    "\n",
    "**常用 Reducer 类型**\n",
    "\n",
    "1. **默认 Reducer（覆盖）**：无需显式指定，新值直接替换旧值。"
   ]
  },
  {
   "cell_type": "code",
   "execution_count": null,
   "id": "5bebe036-2542-4691-b643-5734d4b1eb53",
   "metadata": {},
   "outputs": [],
   "source": [
    "class MyState(TypedDict):\n",
    "    foo: int # 默认覆盖\n",
    "\n",
    "# 场景： 初始 foo=1，节点返回{\"foo\":2} -> 最终 foo=2"
   ]
  },
  {
   "cell_type": "markdown",
   "id": "7f3a6aad-39f5-4fd1-b396-8f3e962d1c0c",
   "metadata": {},
   "source": [
    "2. **operator.add(列表/数值合并)**：用`Annotated`标注，实现列表追加、数值累加。"
   ]
  },
  {
   "cell_type": "code",
   "execution_count": 6,
   "id": "0393f50a-61d5-4c08-b8c6-fbdd26b769e1",
   "metadata": {},
   "outputs": [
    {
     "data": {
      "image/png": "[encoded data removed]",
      "text/plain": [
       "<IPython.core.display.Image object>"
      ]
     },
     "metadata": {},
     "output_type": "display_data"
    },
    {
     "name": "stdout",
     "output_type": "stream",
     "text": [
      "{'foo': 2, 'bar': ['init', 'a', 'b']}\n"
     ]
    }
   ],
   "source": [
    "from typing import Annotated\n",
    "from operator import add\n",
    "from typing_extensions import TypedDict\n",
    "from langgraph.graph import StateGraph, START, END\n",
    "from IPython.display import Image\n",
    "\n",
    "class MyState(TypedDict):\n",
    "    foo: int # 默认覆盖\n",
    "    bar: Annotated[list[str], add] # 列表合并\n",
    "\n",
    "# 初始化图\n",
    "graph = StateGraph(MyState)\n",
    "\n",
    "# 节点1：更新foo和bar\n",
    "def node1(state: MyState):\n",
    "    return {\"foo\": 2, \"bar\": [\"a\"]}\n",
    "\n",
    "# 节点2：持续更新bar\n",
    "def node2(state: MyState):\n",
    "    return {\"bar\": [\"b\"]}\n",
    "\n",
    "# 添加节点和边\n",
    "graph.add_node(\"node1\", node1)\n",
    "graph.add_node(\"node2\", node2)\n",
    "\n",
    "graph.add_edge(START, \"node1\")\n",
    "graph.add_edge(\"node1\", \"node2\")\n",
    "graph.add_edge(\"node2\", END)\n",
    "\n",
    "chain = graph.compile()\n",
    "display(Image(chain.get_graph().draw_mermaid_png()))\n",
    "output = chain.invoke({\"foo\":1, \"bar\": [\"init\"]})\n",
    "print(output)\n"
   ]
  },
  {
   "cell_type": "markdown",
   "id": "95a2a499-a2a7-4e9e-b985-fe499144b62f",
   "metadata": {},
   "source": [
    "3. **add_messages(消息列表专用)**：处理LLM对话消息（如`HumanMessage`、`AIMessage`），支持 **追加新消息** 和 **更新旧消息** （如人工修改历史消息）。"
   ]
  },
  {
   "cell_type": "code",
   "execution_count": 7,
   "id": "b456c023-34d7-4eec-bbc4-fccc05be0636",
   "metadata": {},
   "outputs": [
    {
     "data": {
      "image/png": "[encoded data removed]",
      "text/plain": [
       "<IPython.core.display.Image object>"
      ]
     },
     "metadata": {},
     "output_type": "display_data"
    },
    {
     "name": "stdout",
     "output_type": "stream",
     "text": [
      "human: 你好\n",
      "ai: AI 回复：你好\n"
     ]
    }
   ],
   "source": [
    "from typing import Annotated\n",
    "from typing_extensions import TypedDict\n",
    "from langchain_core.messages import HumanMessage, AIMessage\n",
    "from langgraph.graph import StateGraph, START, END\n",
    "from langgraph.graph.message import add_messages # 消息专用 Reducer\n",
    "from IPython.display import Image\n",
    "\n",
    "# 定义含消息的State\n",
    "class MessageState(TypedDict):\n",
    "    messages: Annotated[list[HumanMessage | AIMessage], add_messages]\n",
    "\n",
    "# 初始化图\n",
    "graph = StateGraph(MessageState)\n",
    "\n",
    "def generate_ai(state: MessageState):\n",
    "    user_msg = state[\"messages\"][-1].content # 读取最后一条用户消息\n",
    "    ai_msg = AIMessage(content=f\"AI 回复：{user_msg}\")\n",
    "    return {\"messages\": [ai_msg]} # add_messages 会自动追加\n",
    "\n",
    "graph.add_node(\"generate_ai\", generate_ai)\n",
    "\n",
    "graph.add_edge(START, \"generate_ai\")\n",
    "graph.add_edge(\"generate_ai\", END)\n",
    "\n",
    "chain = graph.compile()\n",
    "display(Image(chain.get_graph().draw_mermaid_png()))\n",
    "\n",
    "output = chain.invoke({\n",
    "    \"messages\": [HumanMessage(content=\"你好\")]\n",
    "})\n",
    "\n",
    "for msg in output[\"messages\"]:\n",
    "    print(f\"{msg.type}: {msg.content}\")\n"
   ]
  },
  {
   "cell_type": "markdown",
   "id": "b586c6f5-6ddd-47be-9d15-55f9ec3b70fb",
   "metadata": {},
   "source": [
    "**简化：预定义状态「MessagesState」**\n",
    "\n",
    "由于\"**消息列表**\"是最常用的场景，LangGraph提供了预定义的`MessagesState`，以及包含了`messages`字段和`add_messages` Reducer，直接继承即可拓展："
   ]
  },
  {
   "cell_type": "code",
   "execution_count": null,
   "id": "77656d2f-8570-4bad-add4-a435cd3d024d",
   "metadata": {},
   "outputs": [],
   "source": [
    "from langgraph.graph import MessagesState\n",
    "\n",
    "class MyState(MessagesState):\n",
    "    documents: list[str] # 新增字段，默认覆盖规则"
   ]
  },
  {
   "cell_type": "markdown",
   "id": "6977ba8a-9ced-4b55-968b-5db6b5671835",
   "metadata": {},
   "source": [
    "### 3.3 Pydantic 状态基础"
   ]
  },
  {
   "cell_type": "markdown",
   "id": "acad8884-f2d3-4e72-a53c-e6ab1d331547",
   "metadata": {},
   "source": [
    "若需「运行时数据验证」（如确保字段类型正确、数值在范围内），可使用 Pydantic 模型替代 TypedDict。但需注意 Pydantic 的局限性（文档中已说明）。"
   ]
  },
  {
   "cell_type": "code",
   "execution_count": 37,
   "id": "bd2f6d69-0e32-402a-ae3f-8ce897aa871b",
   "metadata": {},
   "outputs": [
    {
     "name": "stdout",
     "output_type": "stream",
     "text": [
      "合法输入结果： {'name': 'Hello Alice!', 'age': 26}\n",
      "1 validation error for PydanticState\n",
      "age\n",
      "  Input should be less than or equal to 150 [type=less_than_equal, input_value=200, input_type=int]\n",
      "    For further information visit https://errors.pydantic.dev/2.11/v/less_than_equal\n"
     ]
    }
   ],
   "source": [
    "from pydantic import BaseModel, Field\n",
    "from langgraph.graph import StateGraph, START, END\n",
    "\n",
    "# 1. 用Pydantic定义状态\n",
    "class PydanticState(BaseModel):\n",
    "    name: str = Field(description=\"用户名，必须是字符串\")\n",
    "    age: int = Field(ge=0, le=150, description=\"年龄，0-150之间的整数\")\n",
    "\n",
    "# 2. 定义节点\n",
    "def validate_node(state: PydanticState):\n",
    "    return {\"name\": f\"Hello {state.name}!\", \"age\": state.age + 1}\n",
    "\n",
    "# 3. 构建 graph\n",
    "graph = StateGraph(PydanticState)\n",
    "graph.add_sequence([validate_node])\n",
    "graph.add_edge(START, \"validate_node\")\n",
    "graph.add_edge(\"validate_node\", END)\n",
    "\n",
    "chain = graph.compile()\n",
    "\n",
    "# 测试1：传入合法数据\n",
    "valid_input = {\"name\": \"Alice\", \"age\": 25}\n",
    "result_valid = chain.invoke(valid_input)\n",
    "print(\"合法输入结果：\", result_valid)\n",
    "\n",
    "# 测试2：传入非法数据\n",
    "try:\n",
    "    invalid_input = {\"name\": \"Bob\", \"age\": 200}\n",
    "    chain.invoke(invalid_input)\n",
    "except Exception as e:\n",
    "    print(e)\n"
   ]
  },
  {
   "cell_type": "markdown",
   "id": "9fe11630-99c5-4377-92dd-2a584eacacdd",
   "metadata": {},
   "source": [
    "## 第四步：掌握「Nodes（节点）」—— 工作流的 “执行单元”"
   ]
  },
  {
   "cell_type": "markdown",
   "id": "4987d2f2-198e-4493-a59e-313989a9ee73",
   "metadata": {},
   "source": [
    "节点是执行具体逻辑的函数（如调用 LLM、工具、数据处理），支持同步 / 异步函数，还可接收「配置」和「运行时上下文」。"
   ]
  },
  {
   "cell_type": "markdown",
   "id": "3fb7f896-8c22-4710-8777-e66161089248",
   "metadata": {},
   "source": [
    "### 4.1 节点的三种常见类型"
   ]
  },
  {
   "cell_type": "markdown",
   "id": "2b32797c-39ee-448f-a347-3718c856e139",
   "metadata": {},
   "source": [
    "根据需要接收的参数，节点分为以下三类：\n",
    "\n",
    "|**节点类型**|\t**接收参数**|\t**适用场景**|\t**代码示例**|\n",
    "|--|--|--|--|\n",
    "|**基础节点**|\t仅 state|\t简单逻辑（如数据处理）|\t`def node(state: MyState): ...`|\n",
    "|**带配置节点**|\tstate + config|\t需要线程 ID、追踪标签等配置|\t`def node(state: MyState, config: RunnableConfig): ...`|\n",
    "|**带运行时节点**|\tstate + runtime|\t需要上下文（如数据库连接、LLM 提供商）|\t`def node(state: MyState, runtime: Runtime[Context]): ...`|\n",
    "\n",
    "**实战：带配置与运行时的节点**"
   ]
  },
  {
   "cell_type": "code",
   "execution_count": 12,
   "id": "00238cfb-ef6c-4f12-bec5-e01664b0d9c9",
   "metadata": {},
   "outputs": [
    {
     "data": {
      "image/png": "[encoded data removed]",
      "text/plain": [
       "<IPython.core.display.Image object>"
      ]
     },
     "metadata": {},
     "output_type": "display_data"
    },
    {
     "name": "stdout",
     "output_type": "stream",
     "text": [
      "用户user_001用openai处理：测试节点\n"
     ]
    }
   ],
   "source": [
    "from dataclasses import dataclass\n",
    "from typing_extensions import TypedDict\n",
    "from langchain_core.runnables import RunnableConfig\n",
    "from langgraph.graph import StateGraph, START, END\n",
    "from langgraph.runtime import Runtime\n",
    "from IPython.display import Image\n",
    "\n",
    "# 1. 定义State\n",
    "class MyState(TypedDict):\n",
    "    user_input: str\n",
    "    result: str\n",
    "\n",
    "# 2. 定义运行时上下文（如LLM提供商， 用户ID）\n",
    "@dataclass\n",
    "class MyContext:\n",
    "    llm_provider: str\n",
    "    user_id: str\n",
    "\n",
    "# 3. 定义3种节点\n",
    "# 基础节点：仅处理state\n",
    "def basic_node(state: MyState):\n",
    "    return {\"result\": f\"基础处理：{state['user_input']}\"}\n",
    "\n",
    "# 带配置的节点：获取thread_id（用于多线程追踪）\n",
    "def config_node(state: MyState, config: RunnableConfig):\n",
    "    thread_id = config[\"configurable\"][\"thread_id\"] # 从配置中拿到 thread_id\n",
    "    return {\"result\": f\"Thread ID: {thread_id} | 处理：{state['user_input']}\"}\n",
    "\n",
    "def runtime_node(state: MyState, runtime: Runtime[MyContext]):\n",
    "    llm_prov = runtime.context.llm_provider # 从运行时拿上下文\n",
    "    user_id = runtime.context.user_id\n",
    "    return {\"result\": f\"用户{user_id}用{llm_prov}处理：{state['user_input']}\"}\n",
    "\n",
    "\n",
    "# 4. 初始化图\n",
    "graph = StateGraph(MyState, context_schema=MyContext)\n",
    "\n",
    "# 5. 添加节点\n",
    "graph.add_node(\"basic\", basic_node)\n",
    "graph.add_node(\"config\", config_node)\n",
    "graph.add_node(\"runtime\", runtime_node)\n",
    "\n",
    "graph.add_edge(START, \"basic\")\n",
    "graph.add_edge(\"basic\", \"config\")\n",
    "graph.add_edge(\"config\", \"runtime\")\n",
    "graph.add_edge(\"runtime\", END)\n",
    "\n",
    "chain = graph.compile()\n",
    "display(Image(chain.get_graph().draw_mermaid_png()))\n",
    "\n",
    "output = chain.invoke(\n",
    "    {\"user_input\": \"测试节点\"},\n",
    "    config={\n",
    "        \"configurable\": {\"thread_id\": \"thread_001\"}, # 给config节点传入 thread_id\n",
    "        \"recursion_limit\": 10, # 递归限制(后面讲)\n",
    "    },\n",
    "    context=MyContext(llm_provider=\"openai\", user_id=\"user_001\") # 运行时上下文\n",
    ")\n",
    "\n",
    "print(output[\"result\"])\n"
   ]
  },
  {
   "cell_type": "code",
   "execution_count": 38,
   "id": "8a51f961-38a9-4361-a17c-0f76d8fa0e07",
   "metadata": {},
   "outputs": [
    {
     "name": "stdout",
     "output_type": "stream",
     "text": [
      "运行时参数A结果： 业务结果（基于运行时参数：参数A）\n",
      "运行时参数B结果： 业务结果（基于运行时参数：参数B）\n"
     ]
    }
   ],
   "source": [
    "from typing_extensions import TypedDict\n",
    "from langgraph.graph import StateGraph, START, END\n",
    "from langgraph.runtime import Runtime  # 用于访问运行时上下文\n",
    "\n",
    "# 1. 定义运行时配置Schema（传递的参数结构）\n",
    "class ContextSchema(TypedDict):\n",
    "    runtime_param: str  # 运行时参数（如LLM提供商、系统提示词）\n",
    "\n",
    "# 2. 定义Graph状态（仅包含业务数据，不包含配置）\n",
    "class BusinessState(TypedDict):\n",
    "    result: str\n",
    "\n",
    "# 3. 定义节点（接收状态+运行时上下文）\n",
    "def runtime_node(state: BusinessState, runtime: Runtime[ContextSchema]):\n",
    "    # 从runtime.context中获取运行时参数\n",
    "    param = runtime.context[\"runtime_param\"]\n",
    "    # 根据参数生成结果\n",
    "    return {\"result\": f\"业务结果（基于运行时参数：{param}）\"}\n",
    "\n",
    "# 4. 构建Graph（指定context_schema）\n",
    "graph_builder = StateGraph(\n",
    "    BusinessState,\n",
    "    context_schema=ContextSchema  # 绑定运行时配置Schema\n",
    ")\n",
    "graph_builder.add_node(\"runtime_node\", runtime_node)\n",
    "graph_builder.add_edge(START, \"runtime_node\")\n",
    "graph_builder.add_edge(\"runtime_node\", END)\n",
    "graph = graph_builder.compile()\n",
    "\n",
    "# 5. 执行Graph（传入业务状态+运行时配置）\n",
    "result1 = graph.invoke(\n",
    "    {\"result\": \"\"},  # 业务初始状态\n",
    "    context={\"runtime_param\": \"参数A\"}  # 运行时参数A\n",
    ")\n",
    "result2 = graph.invoke(\n",
    "    {\"result\": \"\"},\n",
    "    context={\"runtime_param\": \"参数B\"}  # 运行时参数B\n",
    ")\n",
    "\n",
    "print(\"运行时参数A结果：\", result1[\"result\"])  # 输出：业务结果（基于运行时参数：参数A）\n",
    "print(\"运行时参数B结果：\", result2[\"result\"])  # 输出：业务结果（基于运行时参数：参数B）"
   ]
  },
  {
   "cell_type": "code",
   "execution_count": null,
   "id": "8c50d3a2-aba8-462f-a71f-4e08f0881b4c",
   "metadata": {},
   "outputs": [],
   "source": [
    "from dataclasses import dataclass\n",
    "from langchain.chat_models import init_chat_model\n",
    "from langgraph.graph import MessagesState  # 预定义消息状态\n",
    "\n",
    "# 1. 用dataclass定义运行时配置（支持默认值）\n",
    "@dataclass\n",
    "class LLMContext:\n",
    "    model_provider: str = \"anthropic\"  # 默认LLM提供商\n",
    "    system_message: str | None = None  # 可选系统提示词\n",
    "\n",
    "# 2. 定义LLM映射（根据提供商选择模型）\n",
    "LLM_MAP = {\n",
    "    \"anthropic\": init_chat_model(\"anthropic:claude-3-5-haiku-latest\"),\n",
    "    \"openai\": init_chat_model(\"openai:gpt-4o-mini\")\n",
    "}\n",
    "\n",
    "# 3. 定义节点（根据运行时配置选择LLM）\n",
    "def llm_node(state: MessagesState, runtime: Runtime[LLMContext]):\n",
    "    # 1. 获取运行时配置\n",
    "    ctx = runtime.context\n",
    "    llm = LLM_MAP[ctx.model_provider]  # 选择LLM\n",
    "    # 2. 拼接系统提示词（若有）\n",
    "    messages = state[\"messages\"]\n",
    "    if ctx.system_message:\n",
    "        from langchain_core.messages import SystemMessage\n",
    "        messages = [SystemMessage(content=ctx.system_message)] + messages\n",
    "    # 3. 调用LLM并返回结果\n",
    "    response = llm.invoke(messages)\n",
    "    return {\"messages\": [response]}\n",
    "\n",
    "# 4. 构建Graph\n",
    "graph_builder = StateGraph(MessagesState, context_schema=LLMContext)\n",
    "graph_builder.add_node(\"llm_node\", llm_node)\n",
    "graph_builder.add_edge(START, \"llm_node\")\n",
    "graph_builder.add_edge(\"llm_node\", END)\n",
    "graph = graph_builder.compile()\n",
    "\n",
    "# 5. 测试1：使用默认Anthropic模型，无系统提示词\n",
    "result_anthropic = graph.invoke(\n",
    "    {\"messages\": [{\"role\": \"user\", \"content\": \"Hi!\"}]},\n",
    "    context=LLMContext()  # 使用默认配置\n",
    ")\n",
    "print(\"Anthropic模型结果：\")\n",
    "result_anthropic[\"messages\"][-1].pretty_print()\n",
    "\n",
    "# 6. 测试2：使用OpenAI模型，系统提示词为\"用中文回复\"\n",
    "result_openai = graph.invoke(\n",
    "    {\"messages\": [{\"role\": \"user\", \"content\": \"Hi!\"}]},\n",
    "    context=LLMContext(\n",
    "        model_provider=\"openai\",\n",
    "        system_message=\"用中文回复用户\"\n",
    "    )\n",
    ")\n",
    "print(\"\\nOpenAI模型（中文）结果：\")\n",
    "result_openai[\"messages\"][-1].pretty_print()"
   ]
  },
  {
   "cell_type": "markdown",
   "id": "ad6e472f-3949-4218-9498-90a2678e65c6",
   "metadata": {},
   "source": [
    "### 4.2 特殊节点：START 与 END"
   ]
  },
  {
   "cell_type": "markdown",
   "id": "0e0e8588-b370-4b6d-bf8f-cf74c5f802b3",
   "metadata": {},
   "source": [
    "- **START**：虚拟起始节点，代表 “用户输入进入图的入口”，所有流程都从 START 开始。\n",
    "\n",
    "- **END**：虚拟终止节点，代表 “流程结束”，所有不需要继续执行的节点都连接到 END。"
   ]
  },
  {
   "cell_type": "markdown",
   "id": "d38e522f-ab78-4824-8158-2a0ecdff9507",
   "metadata": {},
   "source": [
    "### 4.3 节点缓存：避免重复计算"
   ]
  },
  {
   "cell_type": "markdown",
   "id": "01ed8bfa-7bea-4db5-a72d-3d1baf518905",
   "metadata": {},
   "source": [
    "对于耗时节点（如复杂 LLM 调用、大数据处理），可开启缓存，相同输入直接返回结果，提升效率。需配置「缓存实例」和「缓存策略（CachePolicy）」。"
   ]
  },
  {
   "cell_type": "code",
   "execution_count": 17,
   "id": "f7b9564f-76c0-45f4-afd2-148ea0768f82",
   "metadata": {},
   "outputs": [
    {
     "name": "stdout",
     "output_type": "stream",
     "text": [
      "第一次运行\n",
      "结果：[{'expensive': {'result': 10}}]， 耗时：2.00秒\n",
      "\n",
      "第二次运行(缓存内)：\n",
      "结果：[{'expensive': {'result': 10}, '__metadata__': {'cached': True}}], 耗时：0.00秒\n",
      "\n",
      "第三次运行（缓存过期）：\n",
      "结果：[{'expensive': {'result': 10}}], 耗时：2.00秒\n"
     ]
    }
   ],
   "source": [
    "import time\n",
    "from typing_extensions import TypedDict\n",
    "from langgraph.graph import StateGraph\n",
    "from langgraph.cache.memory import InMemoryCache # 内存缓存\n",
    "from langgraph.types import CachePolicy\n",
    "\n",
    "# 1. 定义State\n",
    "class MyState(TypedDict):\n",
    "    x: int\n",
    "    result: int\n",
    "\n",
    "# 2. 耗时节点\n",
    "def expensive_node(state: MyState) -> dict:\n",
    "    time.sleep(2)   # 模拟耗时操作\n",
    "    return {\"result\": state[\"x\"] * 2}\n",
    "\n",
    "# 3. 初始化图\n",
    "graph = StateGraph(MyState)\n",
    "\n",
    "# 4. 添加节点并配置缓存\n",
    "graph.add_node(\n",
    "    \"expensive\",\n",
    "    expensive_node,\n",
    "    cache_policy=CachePolicy(ttl=3), # 缓存策略：3秒内相同输入复用结果\n",
    ")\n",
    "\n",
    "# 5. 设置入口和出口 （直接从 expensive 节点开始和结束）\n",
    "graph.set_entry_point(\"expensive\")\n",
    "graph.set_finish_point(\"expensive\")\n",
    "\n",
    "# 6. 编译与运行\n",
    "cache = InMemoryCache()\n",
    "chain = graph.compile(cache=cache)\n",
    "\n",
    "print(\"第一次运行\")\n",
    "start = time.time()\n",
    "output1 = chain.invoke({\"x\": 5}, stream_mode=\"updates\")\n",
    "print(f\"结果：{output1}， 耗时：{time.time()-start:.2f}秒\")\n",
    "\n",
    "print(\"\\n第二次运行(缓存内)：\")\n",
    "start = time.time()\n",
    "output2 = chain.invoke({\"x\": 5}, stream_mode=\"updates\")\n",
    "print(f\"结果：{output2}, 耗时：{time.time()-start:.2f}秒\")\n",
    "\n",
    "print(\"\\n第三次运行（缓存过期）：\")\n",
    "time.sleep(3) #等待缓存过期\n",
    "start = time.time()\n",
    "output3 = chain.invoke({\"x\": 5}, stream_mode=\"updates\")\n",
    "print(f\"结果：{output3}, 耗时：{time.time()-start:.2f}秒\")"
   ]
  },
  {
   "cell_type": "markdown",
   "id": "faad20b8-6ba7-4738-b2d9-54e272293730",
   "metadata": {},
   "source": [
    "### 4.4 重试策略（Retry Policy）"
   ]
  },
  {
   "cell_type": "markdown",
   "id": "a0099f8a-28fe-4939-aa17-2497561290c9",
   "metadata": {},
   "source": [
    "为节点配置重试规则，仅在特定异常（如数据库连接错误、API 5xx 错误）时重试。"
   ]
  },
  {
   "cell_type": "code",
   "execution_count": null,
   "id": "7b8040fe-02ec-4ce4-a0a4-c22ba7bba970",
   "metadata": {},
   "outputs": [],
   "source": [
    "from langgraph.types import RetryPolicy\n",
    "from langgraph.graph import StateGraph, START, END\n",
    "from typing_extensions import TypedDict\n",
    "\n",
    "# 1. 定义状态\n",
    "class RetryState(TypedDict):\n",
    "    data: str\n",
    "\n",
    "# 2. 定义易失败节点（模拟API调用超时）\n",
    "import time\n",
    "import random\n",
    "\n",
    "def flaky_node(state: RetryState):\n",
    "    # 模拟50%概率失败（抛异常）\n",
    "    if random.random() < 0.5:\n",
    "        raise Exception(\"模拟API超时错误（需要重试）\")\n",
    "    time.sleep(1)  # 模拟耗时操作\n",
    "    return {\"data\": f\"处理完成：{state['data']}\"}\n",
    "\n",
    "# 3. 构建Graph（为节点配置重试策略）\n",
    "graph_builder = StateGraph(RetryState)\n",
    "# 添加节点：重试策略（默认重试3次，仅重试特定异常）\n",
    "graph_builder.add_node(\n",
    "    \"flaky_node\",\n",
    "    flaky_node,\n",
    "    retry_policy=RetryPolicy(\n",
    "        max_attempts=3,  # 最大重试3次\n",
    "        # retry_on：自定义重试条件（默认重试网络错误、API 5xx等，此处用默认）\n",
    "    )\n",
    ")\n",
    "graph_builder.add_edge(START, \"flaky_node\")\n",
    "graph_builder.add_edge(\"flaky_node\", END)\n",
    "graph = graph_builder.compile()\n",
    "\n",
    "# 4. 执行（若失败会自动重试，直到成功或达到最大次数）\n",
    "start_time = time.time()\n",
    "try:\n",
    "    result = graph.invoke({\"data\": \"测试重试\"})\n",
    "    print(f\"执行成功！结果：{result['data']}，耗时：{time.time()-start_time:.2f}秒\")\n",
    "except Exception as e:\n",
    "    print(f\"重试3次后仍失败：{e}\")"
   ]
  },
  {
   "cell_type": "code",
   "execution_count": null,
   "id": "954f6c6a-9287-4060-8beb-96ebd78cd810",
   "metadata": {},
   "outputs": [],
   "source": [
    "import sqlite3  # 模拟数据库操作\n",
    "\n",
    "def db_node(state: RetryState):\n",
    "    # 模拟数据库操作（可能抛OperationalError）\n",
    "    conn = sqlite3.connect(\":memory:\")\n",
    "    cursor = conn.cursor()\n",
    "    try:\n",
    "        cursor.execute(\"SELECT * FROM non_existent_table;\")  # 故意查不存在的表\n",
    "    except sqlite3.OperationalError as e:\n",
    "        raise e  # 抛出数据库操作错误\n",
    "    finally:\n",
    "        conn.close()\n",
    "    return {\"data\": \"数据库查询完成\"}\n",
    "\n",
    "# 构建Graph：仅重试sqlite3.OperationalError\n",
    "graph_builder = StateGraph(RetryState)\n",
    "graph_builder.add_node(\n",
    "    \"db_node\",\n",
    "    db_node,\n",
    "    retry_policy=RetryPolicy(\n",
    "        max_attempts=2,\n",
    "        retry_on=sqlite3.OperationalError  # 仅重试数据库操作错误\n",
    "    )\n",
    ")\n",
    "graph_builder.add_edge(START, \"db_node\")\n",
    "graph = graph_builder.compile()\n",
    "\n",
    "# 执行：会重试2次（均失败，因为表不存在）\n",
    "try:\n",
    "    graph.invoke({\"data\": \"测试数据库重试\"})\n",
    "except sqlite3.OperationalError as e:\n",
    "    print(\"数据库重试后失败：\", e)"
   ]
  },
  {
   "cell_type": "markdown",
   "id": "44342e3b-ba89-4c3c-bed3-267520962cfd",
   "metadata": {},
   "source": [
    "## 第五步：掌握「Edges（边）」—— 工作流的 “交通规则”"
   ]
  },
  {
   "cell_type": "markdown",
   "id": "f83b543b-65dc-4c03-87bd-17bbab2977b0",
   "metadata": {},
   "source": [
    "边控制流程的走向，分为「普通边」「条件边」「入口边」，还支持动态节点（Send）和状态更新 + 路由（Command）。"
   ]
  },
  {
   "cell_type": "markdown",
   "id": "f880a7ac-0b57-433e-95bb-8bccfb2f51bf",
   "metadata": {},
   "source": [
    "### 5.1 普通边：固定流程"
   ]
  },
  {
   "cell_type": "markdown",
   "id": "1fc66798-6d0c-44db-90da-1f018fcf9728",
   "metadata": {},
   "source": [
    "从一个节点固定跳转到另一个节点，适用于 “无需判断的线性流程”。"
   ]
  },
  {
   "cell_type": "code",
   "execution_count": null,
   "id": "2884c439-cdb9-4cd6-8ba0-75115f5c22bb",
   "metadata": {},
   "outputs": [],
   "source": [
    "# 普通边：node_a 执行完毕后，固定执行 node_b\n",
    "graph.add_edge(\"node_a\", \"node_b\")"
   ]
  },
  {
   "cell_type": "markdown",
   "id": "933b4dce-189e-47e8-990c-e64280970786",
   "metadata": {},
   "source": [
    "### 5.2 条件边：动态路由"
   ]
  },
  {
   "cell_type": "markdown",
   "id": "e631c417-5fca-48e1-b2c7-64f42dcddfa3",
   "metadata": {},
   "source": [
    "根据 State 的数据决定跳转到哪个节点，适用于 “需要分支的流程”（如 “评估笑话是否有趣，有趣则结束，无趣则优化”）。"
   ]
  },
  {
   "cell_type": "code",
   "execution_count": 22,
   "id": "06ef388a-d7ed-4f20-878a-830850ed1ffb",
   "metadata": {},
   "outputs": [
    {
     "name": "stdout",
     "output_type": "stream",
     "text": [
      "LLM 提供商： openai\n",
      "猫为什么喜欢玩电脑？因为有“鼠标”可以抓！\n"
     ]
    }
   ],
   "source": [
    "from typing_extensions import TypedDict, Literal\n",
    "from langgraph.graph import StateGraph, START, END\n",
    "from langgraph.runtime import Runtime\n",
    "from dataclasses import dataclass\n",
    "\n",
    "class JokeState(TypedDict):\n",
    "    joke: str\n",
    "    is_funny: bool\n",
    "\n",
    "@dataclass\n",
    "class MyContext:\n",
    "    llm_provider: str\n",
    "\n",
    "def generate_joke(state: JokeState, runtime: Runtime[MyContext]):\n",
    "    llm_prov = runtime.context.llm_provider # 从运行时拿上下文\n",
    "    print(\"LLM 提供商：\", llm_prov)\n",
    "    return {\"joke\": \"猫为什么喜欢玩电脑？因为有鼠标！\", \"is_funny\": False}\n",
    "\n",
    "def improve_joke(state: JokeState):\n",
    "    return {\"joke\": \"猫为什么喜欢玩电脑？因为有“鼠标”可以抓！\", \"is_funny\": True}\n",
    "\n",
    "def route_joke(state: JokeState) -> Literal[\"improve_joke\", END]:\n",
    "    if state[\"is_funny\"]:\n",
    "        return END\n",
    "    else:\n",
    "        return \"improve_joke\"\n",
    "\n",
    "graph = StateGraph(JokeState, context_schema=MyContext)\n",
    "graph.add_node(\"generate\", generate_joke)\n",
    "graph.add_node(\"improve\", improve_joke)\n",
    "\n",
    "# 添加边\n",
    "graph.add_edge(START, \"generate\")\n",
    "graph.add_conditional_edges(\n",
    "    \"generate\",\n",
    "    route_joke,\n",
    "    {\n",
    "        \"improve_joke\": \"improve\",\n",
    "        END: END,\n",
    "    }\n",
    ")\n",
    "graph.add_edge(\"improve\", END)\n",
    "\n",
    "chain = graph.compile()\n",
    "output = chain.invoke({\"joke\": \"\", \"is_funny\": False}, context=MyContext(llm_provider=\"openai\"))\n",
    "print(output[\"joke\"])\n"
   ]
  },
  {
   "cell_type": "markdown",
   "id": "51e646fd-ee28-4c85-af7c-e1aceaa0332a",
   "metadata": {},
   "source": [
    "### 5.3 动态节点：Send API"
   ]
  },
  {
   "cell_type": "markdown",
   "id": "573c86f0-dc23-4f7b-be88-caa6d71fa2b6",
   "metadata": {},
   "source": [
    "当 “节点数量不确定” 时（如 “根据用户输入的主题列表，生成多个笑话，每个主题一个节点”），用 Send 动态创建节点，实现 “map-reduce” 模式。"
   ]
  },
  {
   "cell_type": "code",
   "execution_count": null,
   "id": "7e061946-be46-454e-b7cc-520822204d43",
   "metadata": {},
   "outputs": [],
   "source": [
    "from typing_extensions import TypedDict\n",
    "from langgraph.graph import StateGraph, START, END\n",
    "from langgraph.types import Send  # 动态节点API\n",
    "import operator\n",
    "from typing import Annotated\n",
    "\n",
    "# 1. 定义状态：topics是待处理的主题列表，results是合并结果\n",
    "class MapReduceState(TypedDict):\n",
    "    topics: list[str]  # 输入：主题列表（数量不确定）\n",
    "    results: Annotated[list[str], operator.add]  # 输出：合并的结果\n",
    "\n",
    "# 2. 定义节点\n",
    "def map_node(state: MapReduceState):\n",
    "    \"\"\"Map阶段：拆分主题，动态创建子节点（每个主题一个generate_node）\"\"\"\n",
    "    # 对每个主题，生成Send对象：指定目标节点+传递给子节点的数据\n",
    "    return [Send(\"generate_node\", {\"topic\": topic}) for topic in state[\"topics\"]]\n",
    "\n",
    "def generate_node(state: dict) -> dict:\n",
    "    \"\"\"Reduce阶段的子节点：处理单个主题（输入是Send传递的{\"topic\": ...}）\"\"\"\n",
    "    topic = state[\"topic\"]\n",
    "    # 模拟生成内容（实际场景可调用LLM）\n",
    "    content = f\"关于「{topic}」的内容：这是动态生成的内容～\"\n",
    "    return {\"results\": [content]}  # 结果会被operator.add合并\n",
    "\n",
    "def reduce_node(state: MapReduceState) -> dict:\n",
    "    \"\"\"Reduce阶段：合并所有子节点的结果\"\"\"\n",
    "    combined = \"\\n\\n\".join(state[\"results\"])\n",
    "    return {\"results\": [f\"【最终合并结果】\\n{combined}\"]}\n",
    "\n",
    "# 3. 构建Map-Reduce Graph\n",
    "graph_builder = StateGraph(MapReduceState)\n",
    "graph_builder.add_node(\"map_node\", map_node)\n",
    "graph_builder.add_node(\"generate_node\", generate_node)\n",
    "graph_builder.add_node(\"reduce_node\", reduce_node)\n",
    "\n",
    "# 边配置：START→map_node→动态generate_node→reduce_node→END\n",
    "graph_builder.add_edge(START, \"map_node\")\n",
    "# 条件边：map_node返回Send对象，动态触发generate_node\n",
    "graph_builder.add_conditional_edges(\"map_node\", map_node, [\"generate_node\"])\n",
    "# 所有generate_node执行完后，进入reduce_node\n",
    "graph_builder.add_edge(\"generate_node\", \"reduce_node\")\n",
    "graph_builder.add_edge(\"reduce_node\", END)\n",
    "graph = graph_builder.compile()\n",
    "\n",
    "# 4. 执行（输入3个主题，动态生成3个generate_node）\n",
    "result = graph.invoke({\n",
    "    \"topics\": [\"猫\", \"狗\", \"鸟\"],  # 不确定数量的主题\n",
    "    \"results\": []\n",
    "})\n",
    "\n",
    "# 查看结果\n",
    "print(\"Map-Reduce最终结果：\")\n",
    "print(result[\"results\"][0])"
   ]
  },
  {
   "cell_type": "markdown",
   "id": "950700e0-07be-457f-9773-d1687849f63b",
   "metadata": {},
   "source": [
    "### 5.4 状态更新 + 路由：Command"
   ]
  },
  {
   "cell_type": "markdown",
   "id": "9c1f08b9-39ba-4f83-97ee-539593e0b2a1",
   "metadata": {},
   "source": [
    "当需要 “同时更新 State 和决定路由” 时（如 “多智能体交接：更新当前智能体 ID，同时跳转到新智能体节点”），用 `Command` 替代条件边。"
   ]
  },
  {
   "cell_type": "code",
   "execution_count": 29,
   "id": "513f9852-2931-4d38-9ef9-00af854dda4e",
   "metadata": {},
   "outputs": [
    {
     "data": {
      "image/png": "[encoded data removed]",
      "text/plain": [
       "<IPython.core.display.Image object>"
      ]
     },
     "metadata": {},
     "output_type": "display_data"
    },
    {
     "name": "stdout",
     "output_type": "stream",
     "text": [
      "{'current_agent': 'agent2', 'task': '处理用户咨询', 'result': 'agent1 处理任务：处理用户咨询（部分完成） -> agent2 完成任务！'}\n"
     ]
    }
   ],
   "source": [
    "from typing import Literal\n",
    "from typing_extensions import TypedDict\n",
    "from langgraph.graph import StateGraph, START, END\n",
    "from langgraph.types import Command\n",
    "from IPython.display import Image\n",
    "\n",
    "class AgentState(TypedDict):\n",
    "    current_agent: str\n",
    "    task: str\n",
    "    result: str\n",
    "\n",
    "# 定义节点\n",
    "def agent1(state: AgentState) -> Command[Literal[\"agent2\"]]:\n",
    "    #  1. 更新State：标记当前智能体为 agent1， 生成部分结果\n",
    "    update = {\n",
    "        \"current_agent\": \"agent1\",\n",
    "        \"result\": f\"agent1 处理任务：{state['task']}（部分完成）\"\n",
    "    }\n",
    "    # 2. 路由：交接给agent2\n",
    "    return Command(update=update, goto=\"agent2\")\n",
    "\n",
    "def agent2(state: AgentState) -> Command[Literal[END]]:\n",
    "    # 1. 更新state：标记当前智能体为 agent2， 完成结果\n",
    "    update = {\n",
    "        \"current_agent\": \"agent2\",\n",
    "        \"result\": f\"{state['result']} -> agent2 完成任务！\"\n",
    "    }\n",
    "    # 2. 路由：结束流程\n",
    "    return Command(update=update, goto=END)\n",
    "\n",
    "graph = StateGraph(AgentState)\n",
    "\n",
    "graph.add_node(\"agent1\", agent1)\n",
    "graph.add_node(\"agent2\", agent2)\n",
    "\n",
    "# 连接边：内部用Command直接跳转到agent2，agent2直接跳转到END\n",
    "graph.add_edge(START, \"agent1\")\n",
    "\n",
    "agent = graph.compile()\n",
    "display(Image(agent.get_graph().draw_mermaid_png()))\n",
    "output = agent.invoke({\n",
    "    \"current_agent\": \"\",\n",
    "    \"task\": \"处理用户咨询\",\n",
    "    \"result\": \"\"\n",
    "})\n",
    "\n",
    "print(output)"
   ]
  },
  {
   "cell_type": "markdown",
   "id": "14abc736-aaa9-4b64-8c56-acf96cb5bae4",
   "metadata": {},
   "source": [
    "**Command vs 条件边：怎么选？**\n",
    "\n",
    "|**场景**|\t**推荐方案**|\t**原因**|\n",
    "|--|--|--|\n",
    "|**仅需要路由，无需更新 State**|\t条件边|\t逻辑更简单，无需额外定义 Command|\n",
    "|**需要同时更新 State 和路由**|\tCommand|\t一步完成，避免拆分多个节点|\n",
    "|**多智能体交接、人工干预后恢复流程**|\tCommand|\t支持跨子图跳转（如子图→父图，后续讲）|\n"
   ]
  },
  {
   "cell_type": "markdown",
   "id": "e5f3a8ec-8feb-48b6-a759-8eb13ecc1271",
   "metadata": {},
   "source": [
    "## 第六步：高级特性：子图跳转、递归限制"
   ]
  },
  {
   "cell_type": "markdown",
   "id": "31385677-b7bd-4aec-b8ae-9ad2b48a88d7",
   "metadata": {},
   "source": [
    "### 6.1 子图跳转：Command.PARENT"
   ]
  },
  {
   "cell_type": "markdown",
   "id": "57a10518-09f3-4103-9aff-6bf3200436e5",
   "metadata": {},
   "source": [
    "当使用「子图」（图中嵌套图）时，可通过 `Command(graph=Command.PARENT)` 从子图节点跳转到父图节点（如 “子图处理失败，返回父图的重试节点”）。"
   ]
  },
  {
   "cell_type": "code",
   "execution_count": null,
   "id": "50875e81-3954-4079-a58a-65af3d40baf7",
   "metadata": {},
   "outputs": [],
   "source": [
    "# 核心代码片段（子图节点中跳转到父图）\n",
    "from langgraph.types import Command\n",
    "\n",
    "def subgraph_node(state: State) -> Command[Literal[\"parent_retry_node\"]]:\n",
    "    return Command(\n",
    "        update={\"error\": \"子图处理失败\"},\n",
    "        goto=\"parent_retry_node\",  # 父图中的节点名\n",
    "        graph=Command.PARENT       # 指定跳转到父图\n",
    "    )"
   ]
  },
  {
   "cell_type": "markdown",
   "id": "801a554c-af80-4237-b983-d552182f22fd",
   "metadata": {},
   "source": [
    "### 6.2 递归限制：防止无限循环"
   ]
  },
  {
   "cell_type": "markdown",
   "id": "55ebec71-3bf8-4bf5-9e0d-57c386679f05",
   "metadata": {},
   "source": [
    "默认情况下，图的最大执行步数（super-step）为 25 步，超过会抛出 GraphRecursionError，可通过 config 修改限制："
   ]
  },
  {
   "cell_type": "code",
   "execution_count": null,
   "id": "bffa0663-d479-4c79-af73-2e8fad7c4c2c",
   "metadata": {},
   "outputs": [],
   "source": [
    "# 执行图时，设置递归限制为 50 步\n",
    "output = graph.invoke(\n",
    "    {\"input\": \"测试\"},\n",
    "    config={\"recursion_limit\": 50}  # 关键：修改最大步数\n",
    ")"
   ]
  },
  {
   "cell_type": "markdown",
   "id": "49698d6c-59fd-4f7b-8b8c-fde9f5e65803",
   "metadata": {},
   "source": [
    "## 第七步：总结 Graph API 核心工作流"
   ]
  },
  {
   "cell_type": "markdown",
   "id": "6882af84-fb36-4ae7-998d-bd3297c6ba0b",
   "metadata": {},
   "source": [
    "掌握 Graph API 的关键是记住「定义→组装→执行」的流程：\n",
    "\n",
    "- **定义 State**：确定共享数据结构（Schema）和更新规则（Reducers），常用 TypedDict 或 MessagesState。\n",
    "\n",
    "- **定义 Nodes**：编写执行逻辑的函数（基础 / 带配置 / 带运行时），耗时节点可加缓存。\n",
    "\n",
    "- **定义 Edges**：用普通边 / 条件边 / Send/Command 控制流程，确定 START 和 END。\n",
    "\n",
    "- **编译图**：调用 compile() 生成可执行实例，可配置缓存、断点。\n",
    "\n",
    "- **执行图**：用 invoke() 传入初始 State，可指定 config（递归限制）和 context（运行时上下文）。\n",
    "\n",
    "通过以上七步，你已完全掌握 Graph API 的核心概念和实战用法。后续可结合具体场景（如智能体、多步骤工作流），灵活组合 State、Nodes、Edges 实现复杂需求。"
   ]
  },
  {
   "cell_type": "code",
   "execution_count": null,
   "id": "4d58b800-d332-4500-a04f-da32a248f341",
   "metadata": {},
   "outputs": [],
   "source": []
  }
 ],
 "metadata": {
  "kernelspec": {
   "display_name": "Python 3 (ipykernel)",
   "language": "python",
   "name": "python3"
  },
  "language_info": {
   "codemirror_mode": {
    "name": "ipython",
    "version": 3
   },
   "file_extension": ".py",
   "mimetype": "text/x-python",
   "name": "python",
   "nbconvert_exporter": "python",
   "pygments_lexer": "ipython3",
   "version": "3.12.3"
  }
 },
 "nbformat": 4,
 "nbformat_minor": 5
}
