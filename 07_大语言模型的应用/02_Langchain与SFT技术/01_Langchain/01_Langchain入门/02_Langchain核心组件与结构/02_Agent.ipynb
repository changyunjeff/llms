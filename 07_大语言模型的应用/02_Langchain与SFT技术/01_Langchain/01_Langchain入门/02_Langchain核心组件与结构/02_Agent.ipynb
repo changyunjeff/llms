{
 "cells": [
  {
   "cell_type": "markdown",
   "id": "770844f8-b3bc-4f9b-a5c3-b2346fbe0547",
   "metadata": {},
   "source": [
    "# Agent智能代理"
   ]
  },
  {
   "cell_type": "markdown",
   "id": "5f3fbe4b-a55c-4182-bb8e-6402b710cb2d",
   "metadata": {},
   "source": [
    "## 一、Agents 基础认知：什么是智能代理？"
   ]
  },
  {
   "cell_type": "markdown",
   "id": "de8568ab-d4c9-4df4-9aed-6604d97920e1",
   "metadata": {},
   "source": [
    "在Langchain中，Agent是一类能自主决策、调用工具解决复杂问题的模块 ———— 它不像 Chains 那样按固定流程执行，而是以LLM为“大脑”，根据用户需求动态判断：\n",
    "\n",
    "- 是否需要调用工具（如搜索、计算、数据库查询）\n",
    "\n",
    "- 调用哪个工具、传递什么参数\n",
    "\n",
    "- 如何利用工具返回结果生成最终回答\n",
    "\n",
    "- 是否需要多轮工具调用\n",
    "\n",
    "其核心逻辑是“根据观察到的环境 > 做决策 > 将决策结果与旧环境生成新环境 > 做决策”循环。\n"
   ]
  },
  {
   "cell_type": "markdown",
   "id": "fa899f94-79cf-4883-bcdf-95671d26394d",
   "metadata": {},
   "source": [
    "## 二、Agents与Chains的核心区别"
   ]
  },
  {
   "cell_type": "markdown",
   "id": "801b5d64-1963-4c4e-a479-c66e6133ed59",
   "metadata": {},
   "source": [
    "|维度|Chains|Agents|\n",
    "|--|--|--|\n",
    "|执行逻辑|固定流程|根据观测到的环境，动态决策|\n",
    "|工具依赖|需手动指定工具调用时机和参数|自动选择工具、生成参数|\n",
    "|适用场景|流程固定的任务|需外部信息/动态判断的任务|\n",
    "|灵活性|低|高|"
   ]
  },
  {
   "cell_type": "markdown",
   "id": "bb9f5d08-73be-4629-9ebf-7924bbc205f0",
   "metadata": {},
   "source": [
    "## 三、Agents核心组件"
   ]
  },
  {
   "cell_type": "markdown",
   "id": "67546293-5e4f-4ab6-afde-a6e679af3fb5",
   "metadata": {},
   "source": [
    "要构建一个可用的Agent，需4个核心部分：\n",
    "\n",
    "1. **LLM（决策大脑）**：负责根据环境做出合理的决策\n",
    "\n",
    "2. **工具（Tool）**：Agent做决策的工具\n",
    "\n",
    "3. **记忆（Memory）**：保存历史观测的环境和决策结果，帮助LLM更好的做决策。\n",
    "\n",
    "4. **执行器（Agent Executor）**：管理“思考 > 行动 > 观察”循环，确保工具调用和结果处理正常。"
   ]
  },
  {
   "cell_type": "markdown",
   "id": "02807768-97b1-43aa-8af6-a81dbe875f59",
   "metadata": {},
   "source": [
    "## 四、实践案例：从基础到进阶搭建Agent"
   ]
  },
  {
   "cell_type": "markdown",
   "id": "6d2dd716-0e0a-4e76-bdfb-dca39473501a",
   "metadata": {},
   "source": [
    "### 前期准备"
   ]
  },
  {
   "cell_type": "markdown",
   "id": "3640012d-2dea-400c-9d3b-2dac0ba6faab",
   "metadata": {},
   "source": [
    "1. **安装依赖**"
   ]
  },
  {
   "cell_type": "code",
   "execution_count": null,
   "id": "c4d47a32-7171-4cf3-aeca-9ba3b8e9c668",
   "metadata": {},
   "outputs": [],
   "source": [
    "# 核心依赖：LangGraph（Agent框架）、Tavily搜索工具、内存组件\n",
    "!pip install -U langgraph langchain-tavily"
   ]
  },
  {
   "cell_type": "markdown",
   "id": "f7703d5e-6b4b-454c-8600-40620dfbc5b1",
   "metadata": {},
   "source": [
    "2. **获取API密钥**\n",
    "\n",
    "    - **Tavily API**：免费搜索工具，注册地址[https://tavily.com](https://tavily.com)，获取后保存；\n"
   ]
  },
  {
   "cell_type": "markdown",
   "id": "822cb6c9-62a1-4bb9-b8b6-8e8b28873b28",
   "metadata": {},
   "source": [
    "### 案例1：基础搜索Agent（无记忆，单轮交互）"
   ]
  },
  {
   "cell_type": "markdown",
   "id": "e8af6215-3ab9-44d8-89e3-efa3818ea708",
   "metadata": {},
   "source": [
    "目标：构建一个能调用Tavily搜索的Agent，回答“实时天气”这类需要外部信息的问题。"
   ]
  },
  {
   "cell_type": "code",
   "execution_count": 6,
   "id": "4d61e65a-95b0-43d0-93aa-422c21a586c1",
   "metadata": {},
   "outputs": [
    {
     "name": "stdout",
     "output_type": "stream",
     "text": [
      "Tavily 密钥加载成功：tvly-d\n",
      "================================\u001b[1m Human Message \u001b[0m=================================\n",
      "\n",
      "江苏苏州市现在的天气怎么样？\n",
      "==================================\u001b[1m Ai Message \u001b[0m==================================\n",
      "Tool Calls:\n",
      "  tavily_search (call_Rc2NdhNBTJBqpC2Liidlo7vh)\n",
      " Call ID: call_Rc2NdhNBTJBqpC2Liidlo7vh\n",
      "  Args:\n",
      "    query: 江苏苏州市现在的天气\n",
      "    search_depth: basic\n",
      "=================================\u001b[1m Tool Message \u001b[0m=================================\n",
      "Name: tavily_search\n",
      "\n",
      "{\"query\": \"江苏苏州市现在的天气\", \"follow_up_questions\": null, \"answer\": null, \"images\": [], \"results\": [{\"url\": \"https://tianqi.moji.com/today/china/jiangsu/suzhou\", \"title\": \"今天苏州市天气_今日天气预报- 墨迹天气\", \"content\": \"苏州市今天实况：28度多云，湿度：87%，南风：2级。白天：36度,晴。 夜间：多云，27度，潮湿闷热，墨迹天气建议您穿着吸湿排汗的夏装，棉麻质地的短打扮是不错的选择。\", \"score\": 0.829285, \"raw_content\": null}, {\"url\": \"https://tianqi.moji.com/weather/china/jiangsu/suzhou\", \"title\": \"苏州市天气预报_天气查询- 墨迹天气\", \"content\": \"苏州市今天实况：27度雾，湿度：90%，东北风：1级。白天：36度,小雨。 夜间：多云，27度，潮湿闷热，墨迹天气建议您穿着吸湿排汗的夏装，棉麻质地的短打扮是不错的选择。\", \"score\": 0.82895297, \"raw_content\": null}], \"response_time\": 1.74, \"request_id\": \"9731e6f4-1ca0-4c42-90e4-78d2e33eb625\"}\n",
      "==================================\u001b[1m Ai Message \u001b[0m==================================\n",
      "\n",
      "根据墨迹天气的信息，江苏苏州市今天的天气情况如下：\n",
      "- 白天：36度，晴\n",
      "- 夜间：27度，多云，潮湿闷热\n",
      "- 湿度：87%\n",
      "- 风力：南风2级\n",
      "\n",
      "您可以查看更多详细信息和天气预报：[苏州市天气预报-墨迹天气](https://tianqi.moji.com/today/china/jiangsu/suzhou)\n"
     ]
    }
   ],
   "source": [
    "from dotenv import load_dotenv\n",
    "import os\n",
    "import getpass\n",
    "from langchain_openai import ChatOpenAI\n",
    "from langchain_tavily import TavilySearch\n",
    "from langgraph.prebuilt import create_react_agent # ReAct Agent执行器\n",
    "\n",
    "load_dotenv()\n",
    "\n",
    "# 1. 设置API密钥\n",
    "if not os.environ.get(\"TAVILY_API_KEY\"):\n",
    "    os.environ[\"TAVILY_API_KEY\"] = getpass.getpass(\"输入Tavily API密钥：\")\n",
    "else:\n",
    "    print(f\"Tavily 密钥加载成功：{os.getenv(\"TAVILY_API_KEY\")[:6]}\")\n",
    "\n",
    "llm = ChatOpenAI(\n",
    "    openai_api_key=os.getenv(\"UIUIAPI_API_KEY\"),\n",
    "    base_url=os.getenv(\"UIUIAPI_BASE_URL\"),\n",
    "    model=\"gpt-3.5-turbo\",\n",
    "    temperature=0.1 # 决策任务用低温度，避免随机性\n",
    ")\n",
    "\n",
    "search_tool = TavilySearch(max_results=2)\n",
    "tools = [search_tool] # Agent可调用的工具集\n",
    "\n",
    "# 2. 创建Agent执行器\n",
    "agent_executor = create_react_agent(\n",
    "    model=llm,\n",
    "    tools=tools,\n",
    ")\n",
    "\n",
    "# 3. 运行Agent\n",
    "input_msg = {\"role\": \"user\", \"content\": \"江苏苏州市现在的天气怎么样？\"}\n",
    "\n",
    "response = agent_executor.invoke({'messages': [input_msg]})\n",
    "\n",
    "for msg in response[\"messages\"]:\n",
    "    msg.pretty_print()\n"
   ]
  },
  {
   "cell_type": "markdown",
   "id": "15ef65c8-1ec3-4380-a4c2-2a7741e2f3b7",
   "metadata": {},
   "source": [
    "### 案例2：带记忆的Agent"
   ]
  },
  {
   "cell_type": "markdown",
   "id": "e64b8e5d-8aa7-4559-9136-917937acc9aa",
   "metadata": {},
   "source": [
    "目标：让Agent记住对话历史（如用户先介绍“我住在江苏苏州市”，后续问“我居住地的天气”时，Agent能关联上下文，无需重复说明地点）。"
   ]
  },
  {
   "cell_type": "code",
   "execution_count": 11,
   "id": "90f49b01-f506-4afd-a613-9c588abc5159",
   "metadata": {},
   "outputs": [
    {
     "name": "stdout",
     "output_type": "stream",
     "text": [
      "=== 第一轮交互 ===\n",
      "================================\u001b[1m Human Message \u001b[0m=================================\n",
      "\n",
      "Hi, 我是LCY，我住在江苏苏州市\n",
      "==================================\u001b[1m Ai Message \u001b[0m==================================\n",
      "\n",
      "你好，LCY！有什么可以帮助你的吗？\n",
      "\n",
      "=== 第二轮交互 ===\n",
      "================================\u001b[1m Human Message \u001b[0m=================================\n",
      "\n",
      "我住的地方现在天气怎么样？\n",
      "==================================\u001b[1m Ai Message \u001b[0m==================================\n",
      "Tool Calls:\n",
      "  tavily_search (call_2TCjM8FFh4ahxENdVFRlacaf)\n",
      " Call ID: call_2TCjM8FFh4ahxENdVFRlacaf\n",
      "  Args:\n",
      "    query: 苏州市天气现况\n",
      "    topic: general\n",
      "=================================\u001b[1m Tool Message \u001b[0m=================================\n",
      "Name: tavily_search\n",
      "\n",
      "{\"query\": \"苏州市天气现况\", \"follow_up_questions\": null, \"answer\": null, \"images\": [], \"results\": [{\"url\": \"https://www.weather.com.cn/weather/101190401.shtml\", \"title\": \"预报- 苏州 - 中国天气网\", \"content\": \"首页 预报 预警 雷达 云图 天气地图 专业产品 资讯 视频 节气 我的天空 全国> 江苏 苏州> 城区 11:30更新 | 数据来源 中央气象台 * 今天 * 7天 * 8-15天 * 40天 * 雷达图 * # 24日（今天） 37/*29℃* *<3级* * # 25日（明天） 37/*29℃* *<3级* * # 26日（后天） 雷阵雨转多云 36/*28℃* *<3级* * # 27日（周三） 晴转多云 37/*29℃* *<3级* * # 28日（周四） 多云 37/*29℃* *<3级* * # 29日（周五） 37/*29℃* *<3级* * # 30日（周六） 37/*28℃* *<3级* *分时段预报* *生活指数* 蓝天预报 ### 蓝天预报综合天气现象、能见度、空气质量等因子，预测未来一周的天空状况。 * 天空蔚蓝 **可见透彻蓝天，或有蓝天白云美景。** * 天空淡蓝 **天空不够清澈，以浅蓝色为主。** *36℃**36℃**36℃**33℃**32℃**30℃**29℃**32℃* *<3级**<3级**<3级**<3级**<3级**<3级**<3级**<3级* 辐射弱，涂擦SPF8-12防晒护肤品。 涂擦SPF大于15、PA+防晒护肤品。 最高气温: 39℃ , 最低气温: 29.6℃ 过去24小时最大风力: 2级 *(h)* **℃** **(μg/m³)** **(%)** **(mm)** **(级)** 29℃ 29℃ 28℃ 29℃ 29℃ 29℃ 28℃ # 周边地区 *|* 周边景点 *2025-08-24 11:30更新* # 周边地区 *|* 周边景点 *2025-08-24 11:30更新* # 高清图集 # 更多>>高清图集 # 我在**全国**，现在看到的天空状况是：\", \"score\": 0.98567, \"raw_content\": null}, {\"url\": \"https://weather.cma.cn/web/weather/58349.html\", \"title\": \"苏州 - 中国气象局-天气预报-城市预报\", \"content\": \"中国气象局-天气预报-城市预报 \\\\* 天气预报 \\\\* 1010hPa \\\\* 0mm 降水 无降水 无降水 无降水 无降水 无降水 无降水 无降水 无降水 气压 1008hPa 1007.2hPa 1008.7hPa 1008.9hPa 1008.4hPa 1008.1hPa 1008.9hPa 1008.7hPa 降水 无降水 无降水 无降水 无降水 无降水 无降水 无降水 无降水 气压 1008.9hPa 1008.7hPa 1006.7hPa 1006.1hPa 1008.1hPa 1008.4hPa 1007.8hPa 1008.3hPa 降水 无降水 无降水 无降水 无降水 无降水 无降水 无降水 无降水 气压 1009.3hPa 1009hPa 1007.3hPa 1007.1hPa 1008.7hPa 1008.9hPa 1009hPa 1009.7hPa 降水 无降水 无降水 无降水 无降水 无降水 无降水 无降水 无降水 气压 1011hPa 1011hPa 1009.3hPa 1008.8hPa 1010.1hPa 1010.3hPa 1010.5hPa 1010.3hPa 降水 无降水 无降水 无降水 无降水 无降水 无降水 无降水 无降水 气压 1011hPa 1010.8hPa 1008.6hPa 1007.3hPa 1008.1hPa 1008.1hPa 1008.1hPa 1008hPa 降水 无降水 无降水 无降水 无降水 无降水 无降水 无降水 无降水 气压 1007.9hPa 1006.5hPa 1005hPa 1004.6hPa 1004.2hPa 1004.6hPa 1004.9hPa 1005.6hPa 降水 无降水 0.1mm 0.1mm 0.1mm 9.6mm 无降水 无降水 无降水\", \"score\": 0.9832, \"raw_content\": null}], \"response_time\": 1.77, \"request_id\": \"31fc03fc-7fce-40f3-ba5d-db8042509a64\"}\n",
      "==================================\u001b[1m Ai Message \u001b[0m==================================\n",
      "\n",
      "根据中国天气网的信息，苏州市目前的天气情况如下：\n",
      "- 今天最高温度为37℃，最低温度为29℃，风力小于3级。\n",
      "- 明天预计最高温度为37℃，最低温度为29℃，风力小于3级。\n",
      "- 后天将有雷阵雨转多云，最高温度为36℃，最低温度为28℃，风力小于3级。\n",
      "\n",
      "你可以查看更多天气信息和预报详情，请访问[中国天气网-苏州市天气预报页面](https://www.weather.com.cn/weather/101190401.shtml)。\n"
     ]
    }
   ],
   "source": [
    "from dotenv import load_dotenv\n",
    "import os\n",
    "from langchain_openai import ChatOpenAI\n",
    "from langchain_tavily import TavilySearch\n",
    "from langgraph.prebuilt import create_react_agent\n",
    "from langgraph.checkpoint.memory import MemorySaver\n",
    "\n",
    "load_dotenv()\n",
    "\n",
    "llm = ChatOpenAI(\n",
    "    openai_api_key=os.getenv(\"UIUIAPI_API_KEY\"),\n",
    "    base_url=os.getenv(\"UIUIAPI_BASE_URL\"),\n",
    "    model=\"gpt-3.5-turbo\",\n",
    "    temperature=0.1\n",
    ")\n",
    "\n",
    "search_tool = TavilySearch(max_results=2)\n",
    "tools = [search_tool]\n",
    "\n",
    "# 初始化内存（保存对话历史，基于thread_id区分不同对话）\n",
    "memory = MemorySaver()\n",
    "\n",
    "# 创建带记忆的Agent执行器\n",
    "agent_executor = create_react_agent(\n",
    "    model=llm,\n",
    "    tools=tools,\n",
    "    checkpointer=memory # 传入内存组件\n",
    ")\n",
    "\n",
    "# 配置对话ID\n",
    "config = {\"configurable\": {\"thread_id\": \"my_chat_001\"}}\n",
    "\n",
    "# 第一轮：自我介绍\n",
    "input1 = {\"role\":\"user\", \"content\": \"Hi, 我是LCY，我住在江苏苏州市\"}\n",
    "print(\"=== 第一轮交互 ===\")\n",
    "\n",
    "for step in agent_executor.stream(\n",
    "    {\"messages\": [input1]},\n",
    "    config,\n",
    "    stream_mode=\"values\" # 流式输出每一步结果\n",
    "):\n",
    "    step[\"messages\"][-1].pretty_print()\n",
    "\n",
    "# 第二轮：用户问“我那的天气”（不重复提地点，测试记忆）\n",
    "input2 = {\"role\": \"user\", \"content\": \"我住的地方现在天气怎么样？\"}\n",
    "print(\"\\n=== 第二轮交互 ===\")\n",
    "for step in agent_executor.stream(\n",
    "    {\"messages\": [input2]}, \n",
    "    config, \n",
    "    stream_mode=\"values\"\n",
    "):\n",
    "    step[\"messages\"][-1].pretty_print()\n"
   ]
  },
  {
   "cell_type": "markdown",
   "id": "4a875458-d295-4a75-ad6d-f355588d4f46",
   "metadata": {},
   "source": [
    "### 案例3：流式输出Agent（实时展示思考/工具过程）"
   ]
  },
  {
   "cell_type": "code",
   "execution_count": 25,
   "id": "a112a7bb-e8dc-421d-a3a7-f9c37ff8112b",
   "metadata": {},
   "outputs": [
    {
     "name": "stdout",
     "output_type": "stream",
     "text": [
      "根据最新的天气预报，苏州市未来两天的天气情况如下：\n",
      "\n",
      "- **明天（25日）**：预计天气晴，最高温度37℃，最低温度29℃，没有降水。\n",
      "- **后天（26日）**：预计有雷阵雨转多云，最高温度36℃，最低温度28℃，可能会有降水。\n",
      "\n",
      "因此，后天会有降雨的可能性。"
     ]
    }
   ],
   "source": [
    "import time\n",
    "\n",
    "ask_content=\"苏州未来2天会下雨吗?\"\n",
    "input_msg = {\"role\": \"user\", \"content\": ask_content}\n",
    "\n",
    "for step, metadata in agent_executor.stream(\n",
    "    {\"messages\": [input_msg]},\n",
    "    config, # 复用之前的对话ID\n",
    "    stream_mode=\"messages\", # 流式输出每一条消息\n",
    "):\n",
    "    for char in step.content:\n",
    "        print(char, end='', flush=True)\n",
    "        time.sleep(0.01)  # 控制打字速度"
   ]
  },
  {
   "cell_type": "markdown",
   "id": "7e5cdc8b-52db-4ad8-a8fa-8b1794593a9b",
   "metadata": {},
   "source": [
    "关键说明\n",
    "\n",
    "- `stream_mode=\"values\"`：输出完整的 “步骤结果”（如整段 AI 回答、完整工具结果）；\n",
    "\n",
    "- `stream_mode=\"messages\"`：输出 “逐 token” 的实时内容（如 AI 回答时一个字一个字打印）；\n",
    "\n",
    "- 适合构建聊天机器人等交互场景，让用户知道 Agent “正在工作”，而非等待空白。"
   ]
  },
  {
   "cell_type": "markdown",
   "id": "bfe55e99-9a2b-475c-a297-ed368483df63",
   "metadata": {},
   "source": [
    "## 五、自定义工具：拓展Agent能力"
   ]
  },
  {
   "cell_type": "markdown",
   "id": "e091b821-f9f1-45a7-a0c5-018338bbb221",
   "metadata": {},
   "source": [
    "目标：给Agent添加计算器工具，解决数学计算问题"
   ]
  },
  {
   "cell_type": "code",
   "execution_count": 27,
   "id": "e2acbf25-c820-47c8-a85f-1350c688f725",
   "metadata": {},
   "outputs": [
    {
     "name": "stdout",
     "output_type": "stream",
     "text": [
      "================================\u001b[1m Human Message \u001b[0m=================================\n",
      "\n",
      "123乘以456等于多少？\n",
      "==================================\u001b[1m Ai Message \u001b[0m==================================\n",
      "Tool Calls:\n",
      "  calculator (call_nhz74F6ofdco75Rj5xVzeRZ6)\n",
      " Call ID: call_nhz74F6ofdco75Rj5xVzeRZ6\n",
      "  Args:\n",
      "    a: 123\n",
      "    b: 456\n",
      "    op: *\n",
      "=================================\u001b[1m Tool Message \u001b[0m=================================\n",
      "Name: calculator\n",
      "\n",
      "56088\n",
      "==================================\u001b[1m Ai Message \u001b[0m==================================\n",
      "\n",
      "123乘以456等于56088。\n"
     ]
    }
   ],
   "source": [
    "from langchain_core.tools import tool # 自定义工具装饰器\n",
    "\n",
    "def calculator(a: int, b: int, op: str) -> int:\n",
    "    \"\"\"\n",
    "    用于计算两个整数的四则运算（加、减、乘、除）。\n",
    "    参数：\n",
    "        a: 第一个整数\n",
    "        b: 第二个整数\n",
    "        op: 运算符（+、-、*、/，除法结果取整）\n",
    "    返回：\n",
    "        计算结果\n",
    "    \"\"\"\n",
    "    if op == \"+\":\n",
    "        return a + b\n",
    "    elif op == \"-\":\n",
    "        return a - b\n",
    "    elif op == \"*\":\n",
    "        return a * b\n",
    "    elif op == \"/\":\n",
    "        return a // b  # 整数除法\n",
    "    else:\n",
    "        raise ValueError(\"运算符仅支持+、-、*、/\")\n",
    "\n",
    "tools_with_calc = [search_tool, calculator]\n",
    "\n",
    "agent = create_react_agent(\n",
    "    model=llm,\n",
    "    tools=tools_with_calc\n",
    ")\n",
    "\n",
    "msg = {\"role\": \"user\", \"content\": \"123乘以456等于多少？\"}\n",
    "response = agent.invoke({\"messages\": [msg]})\n",
    "\n",
    "for msg in response[\"messages\"]:\n",
    "    msg.pretty_print()\n"
   ]
  },
  {
   "cell_type": "markdown",
   "id": "ad1d477e-85f6-4aa9-91e6-25da76dcd36b",
   "metadata": {},
   "source": [
    "**关键说明**\n",
    "\n",
    "- 自定义工具需用 `@tool`装饰器， 且必须写清晰的“工具描述” ———— LLM会根据描述判断是否调用该工具。\n",
    "\n",
    "- 工具参数需明确类型（如`a:int`），帮助LLM正确生成参数\n",
    "\n",
    "- 可拓展更多工具（如数据库查询、API调用），让Agent支持更复杂的场景。\n"
   ]
  },
  {
   "cell_type": "code",
   "execution_count": null,
   "id": "22b95d67-3757-426c-8c06-3803108b65fd",
   "metadata": {},
   "outputs": [],
   "source": []
  }
 ],
 "metadata": {
  "kernelspec": {
   "display_name": "Python 3 (ipykernel)",
   "language": "python",
   "name": "python3"
  },
  "language_info": {
   "codemirror_mode": {
    "name": "ipython",
    "version": 3
   },
   "file_extension": ".py",
   "mimetype": "text/x-python",
   "name": "python",
   "nbconvert_exporter": "python",
   "pygments_lexer": "ipython3",
   "version": "3.12.3"
  }
 },
 "nbformat": 4,
 "nbformat_minor": 5
}
