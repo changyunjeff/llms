{
 "cells": [
  {
   "cell_type": "markdown",
   "id": "f20ca275-1e63-4927-b273-5f7b2c09a294",
   "metadata": {},
   "source": [
    "# 2 Langchain核心组件与结构"
   ]
  },
  {
   "cell_type": "markdown",
   "id": "e1d99fd2-c7f2-43de-8bb5-2ed0abbc7849",
   "metadata": {},
   "source": [
    "## 2.1 Langchain模块介绍"
   ]
  },
  {
   "cell_type": "markdown",
   "id": "c78f886f-3627-4a8c-bda5-51165ae850ff",
   "metadata": {},
   "source": [
    "### 2.1.1 Chains（链式调用）"
   ]
  },
  {
   "cell_type": "markdown",
   "id": "47e4ace4-7391-478d-84bb-79b9a36e037f",
   "metadata": {},
   "source": [
    "**(1) 为什么需要Chains？**\n",
    "\n",
    "单个模块只能解决一个任务，但实际场景常需要多步骤自动化。Chains的核心价值就是把单任务串联起来形成流水线，前一步输出作为后一步输入。\n",
    "\n",
    "**(2) 实践准备：环境搭建**"
   ]
  },
  {
   "cell_type": "code",
   "execution_count": null,
   "id": "ec6b6680-7c0f-4ec3-827c-fa8920faa28a",
   "metadata": {},
   "outputs": [],
   "source": [
    "from dotenv imort load_dotenv\n",
    "import os\n",
    "from langchain_openai import OpenAI\n"
   ]
  },
  {
   "cell_type": "markdown",
   "id": "92b83cbd-925f-4d7b-80b8-fa6157753888",
   "metadata": {},
   "source": [
    "### 2.1.2 Agents（智能代理）"
   ]
  },
  {
   "cell_type": "markdown",
   "id": "97ff1b52-ee2f-4dc4-9cea-671bdd312453",
   "metadata": {},
   "source": [
    "### 2.1.3 Prompts（提示工程）"
   ]
  },
  {
   "cell_type": "markdown",
   "id": "a6d166e4-7143-4680-9630-80507c5c0bd4",
   "metadata": {},
   "source": [
    "### 2.1.4 Memory（内存管理）"
   ]
  },
  {
   "cell_type": "markdown",
   "id": "684e8d24-2719-41a7-a18a-b90008579cae",
   "metadata": {},
   "source": [
    "## 2.2 组件集成与工作流设计"
   ]
  },
  {
   "cell_type": "markdown",
   "id": "807fed4c-38d4-47fa-9a17-1d203d8d3d3d",
   "metadata": {},
   "source": [
    "## 2.3 模拟实践：构建一个简单的聊天机器人"
   ]
  },
  {
   "cell_type": "code",
   "execution_count": null,
   "id": "4ab60eee-d0fb-496c-99e2-acfffc37ff7e",
   "metadata": {},
   "outputs": [],
   "source": []
  }
 ],
 "metadata": {
  "kernelspec": {
   "display_name": "Python 3 (ipykernel)",
   "language": "python",
   "name": "python3"
  },
  "language_info": {
   "codemirror_mode": {
    "name": "ipython",
    "version": 3
   },
   "file_extension": ".py",
   "mimetype": "text/x-python",
   "name": "python",
   "nbconvert_exporter": "python",
   "pygments_lexer": "ipython3",
   "version": "3.12.3"
  }
 },
 "nbformat": 4,
 "nbformat_minor": 5
}
